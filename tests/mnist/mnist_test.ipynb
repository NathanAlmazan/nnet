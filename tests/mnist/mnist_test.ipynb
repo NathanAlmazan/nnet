{
 "cells": [
  {
   "cell_type": "code",
   "execution_count": 1,
   "metadata": {},
   "outputs": [
    {
     "data": {
      "text/html": [
       "<div>\n",
       "<style scoped>\n",
       "    .dataframe tbody tr th:only-of-type {\n",
       "        vertical-align: middle;\n",
       "    }\n",
       "\n",
       "    .dataframe tbody tr th {\n",
       "        vertical-align: top;\n",
       "    }\n",
       "\n",
       "    .dataframe thead th {\n",
       "        text-align: right;\n",
       "    }\n",
       "</style>\n",
       "<table border=\"1\" class=\"dataframe\">\n",
       "  <thead>\n",
       "    <tr style=\"text-align: right;\">\n",
       "      <th></th>\n",
       "      <th>label</th>\n",
       "      <th>pixel0</th>\n",
       "      <th>pixel1</th>\n",
       "      <th>pixel2</th>\n",
       "      <th>pixel3</th>\n",
       "      <th>pixel4</th>\n",
       "      <th>pixel5</th>\n",
       "      <th>pixel6</th>\n",
       "      <th>pixel7</th>\n",
       "      <th>pixel8</th>\n",
       "      <th>...</th>\n",
       "      <th>pixel774</th>\n",
       "      <th>pixel775</th>\n",
       "      <th>pixel776</th>\n",
       "      <th>pixel777</th>\n",
       "      <th>pixel778</th>\n",
       "      <th>pixel779</th>\n",
       "      <th>pixel780</th>\n",
       "      <th>pixel781</th>\n",
       "      <th>pixel782</th>\n",
       "      <th>pixel783</th>\n",
       "    </tr>\n",
       "  </thead>\n",
       "  <tbody>\n",
       "    <tr>\n",
       "      <th>0</th>\n",
       "      <td>1</td>\n",
       "      <td>0</td>\n",
       "      <td>0</td>\n",
       "      <td>0</td>\n",
       "      <td>0</td>\n",
       "      <td>0</td>\n",
       "      <td>0</td>\n",
       "      <td>0</td>\n",
       "      <td>0</td>\n",
       "      <td>0</td>\n",
       "      <td>...</td>\n",
       "      <td>0</td>\n",
       "      <td>0</td>\n",
       "      <td>0</td>\n",
       "      <td>0</td>\n",
       "      <td>0</td>\n",
       "      <td>0</td>\n",
       "      <td>0</td>\n",
       "      <td>0</td>\n",
       "      <td>0</td>\n",
       "      <td>0</td>\n",
       "    </tr>\n",
       "    <tr>\n",
       "      <th>1</th>\n",
       "      <td>0</td>\n",
       "      <td>0</td>\n",
       "      <td>0</td>\n",
       "      <td>0</td>\n",
       "      <td>0</td>\n",
       "      <td>0</td>\n",
       "      <td>0</td>\n",
       "      <td>0</td>\n",
       "      <td>0</td>\n",
       "      <td>0</td>\n",
       "      <td>...</td>\n",
       "      <td>0</td>\n",
       "      <td>0</td>\n",
       "      <td>0</td>\n",
       "      <td>0</td>\n",
       "      <td>0</td>\n",
       "      <td>0</td>\n",
       "      <td>0</td>\n",
       "      <td>0</td>\n",
       "      <td>0</td>\n",
       "      <td>0</td>\n",
       "    </tr>\n",
       "    <tr>\n",
       "      <th>2</th>\n",
       "      <td>1</td>\n",
       "      <td>0</td>\n",
       "      <td>0</td>\n",
       "      <td>0</td>\n",
       "      <td>0</td>\n",
       "      <td>0</td>\n",
       "      <td>0</td>\n",
       "      <td>0</td>\n",
       "      <td>0</td>\n",
       "      <td>0</td>\n",
       "      <td>...</td>\n",
       "      <td>0</td>\n",
       "      <td>0</td>\n",
       "      <td>0</td>\n",
       "      <td>0</td>\n",
       "      <td>0</td>\n",
       "      <td>0</td>\n",
       "      <td>0</td>\n",
       "      <td>0</td>\n",
       "      <td>0</td>\n",
       "      <td>0</td>\n",
       "    </tr>\n",
       "    <tr>\n",
       "      <th>3</th>\n",
       "      <td>4</td>\n",
       "      <td>0</td>\n",
       "      <td>0</td>\n",
       "      <td>0</td>\n",
       "      <td>0</td>\n",
       "      <td>0</td>\n",
       "      <td>0</td>\n",
       "      <td>0</td>\n",
       "      <td>0</td>\n",
       "      <td>0</td>\n",
       "      <td>...</td>\n",
       "      <td>0</td>\n",
       "      <td>0</td>\n",
       "      <td>0</td>\n",
       "      <td>0</td>\n",
       "      <td>0</td>\n",
       "      <td>0</td>\n",
       "      <td>0</td>\n",
       "      <td>0</td>\n",
       "      <td>0</td>\n",
       "      <td>0</td>\n",
       "    </tr>\n",
       "    <tr>\n",
       "      <th>4</th>\n",
       "      <td>0</td>\n",
       "      <td>0</td>\n",
       "      <td>0</td>\n",
       "      <td>0</td>\n",
       "      <td>0</td>\n",
       "      <td>0</td>\n",
       "      <td>0</td>\n",
       "      <td>0</td>\n",
       "      <td>0</td>\n",
       "      <td>0</td>\n",
       "      <td>...</td>\n",
       "      <td>0</td>\n",
       "      <td>0</td>\n",
       "      <td>0</td>\n",
       "      <td>0</td>\n",
       "      <td>0</td>\n",
       "      <td>0</td>\n",
       "      <td>0</td>\n",
       "      <td>0</td>\n",
       "      <td>0</td>\n",
       "      <td>0</td>\n",
       "    </tr>\n",
       "  </tbody>\n",
       "</table>\n",
       "<p>5 rows × 785 columns</p>\n",
       "</div>"
      ],
      "text/plain": [
       "   label  pixel0  pixel1  pixel2  pixel3  pixel4  pixel5  pixel6  pixel7  \\\n",
       "0      1       0       0       0       0       0       0       0       0   \n",
       "1      0       0       0       0       0       0       0       0       0   \n",
       "2      1       0       0       0       0       0       0       0       0   \n",
       "3      4       0       0       0       0       0       0       0       0   \n",
       "4      0       0       0       0       0       0       0       0       0   \n",
       "\n",
       "   pixel8  ...  pixel774  pixel775  pixel776  pixel777  pixel778  pixel779  \\\n",
       "0       0  ...         0         0         0         0         0         0   \n",
       "1       0  ...         0         0         0         0         0         0   \n",
       "2       0  ...         0         0         0         0         0         0   \n",
       "3       0  ...         0         0         0         0         0         0   \n",
       "4       0  ...         0         0         0         0         0         0   \n",
       "\n",
       "   pixel780  pixel781  pixel782  pixel783  \n",
       "0         0         0         0         0  \n",
       "1         0         0         0         0  \n",
       "2         0         0         0         0  \n",
       "3         0         0         0         0  \n",
       "4         0         0         0         0  \n",
       "\n",
       "[5 rows x 785 columns]"
      ]
     },
     "execution_count": 1,
     "metadata": {},
     "output_type": "execute_result"
    }
   ],
   "source": [
    "import pandas as pd\n",
    "import numpy as np\n",
    "from sklearn.preprocessing import MinMaxScaler\n",
    "\n",
    "\n",
    "# define dataset\n",
    "df = pd.read_csv('mnist_dataset.csv')\n",
    "df.sample(frac = 1) # shuffle\n",
    "df.head()"
   ]
  },
  {
   "cell_type": "code",
   "execution_count": 2,
   "metadata": {},
   "outputs": [
    {
     "data": {
      "text/plain": [
       "(42000, 10)"
      ]
     },
     "execution_count": 2,
     "metadata": {},
     "output_type": "execute_result"
    }
   ],
   "source": [
    "# get the data labels\n",
    "labels = df.loc[:, 'label']\n",
    "labels = np.array(labels)\n",
    "\n",
    "hot_encoded_labels = []\n",
    "for label in labels:\n",
    "    temp = np.zeros(10)\n",
    "    temp[label] = 1\n",
    "    hot_encoded_labels.append(temp)\n",
    "    \n",
    "labels = np.array(hot_encoded_labels)\n",
    "labels.shape"
   ]
  },
  {
   "cell_type": "code",
   "execution_count": 3,
   "metadata": {},
   "outputs": [
    {
     "data": {
      "text/html": [
       "<div>\n",
       "<style scoped>\n",
       "    .dataframe tbody tr th:only-of-type {\n",
       "        vertical-align: middle;\n",
       "    }\n",
       "\n",
       "    .dataframe tbody tr th {\n",
       "        vertical-align: top;\n",
       "    }\n",
       "\n",
       "    .dataframe thead th {\n",
       "        text-align: right;\n",
       "    }\n",
       "</style>\n",
       "<table border=\"1\" class=\"dataframe\">\n",
       "  <thead>\n",
       "    <tr style=\"text-align: right;\">\n",
       "      <th></th>\n",
       "      <th>pixel0</th>\n",
       "      <th>pixel1</th>\n",
       "      <th>pixel2</th>\n",
       "      <th>pixel3</th>\n",
       "      <th>pixel4</th>\n",
       "      <th>pixel5</th>\n",
       "      <th>pixel6</th>\n",
       "      <th>pixel7</th>\n",
       "      <th>pixel8</th>\n",
       "      <th>pixel9</th>\n",
       "      <th>...</th>\n",
       "      <th>pixel774</th>\n",
       "      <th>pixel775</th>\n",
       "      <th>pixel776</th>\n",
       "      <th>pixel777</th>\n",
       "      <th>pixel778</th>\n",
       "      <th>pixel779</th>\n",
       "      <th>pixel780</th>\n",
       "      <th>pixel781</th>\n",
       "      <th>pixel782</th>\n",
       "      <th>pixel783</th>\n",
       "    </tr>\n",
       "  </thead>\n",
       "  <tbody>\n",
       "    <tr>\n",
       "      <th>0</th>\n",
       "      <td>0</td>\n",
       "      <td>0</td>\n",
       "      <td>0</td>\n",
       "      <td>0</td>\n",
       "      <td>0</td>\n",
       "      <td>0</td>\n",
       "      <td>0</td>\n",
       "      <td>0</td>\n",
       "      <td>0</td>\n",
       "      <td>0</td>\n",
       "      <td>...</td>\n",
       "      <td>0</td>\n",
       "      <td>0</td>\n",
       "      <td>0</td>\n",
       "      <td>0</td>\n",
       "      <td>0</td>\n",
       "      <td>0</td>\n",
       "      <td>0</td>\n",
       "      <td>0</td>\n",
       "      <td>0</td>\n",
       "      <td>0</td>\n",
       "    </tr>\n",
       "    <tr>\n",
       "      <th>1</th>\n",
       "      <td>0</td>\n",
       "      <td>0</td>\n",
       "      <td>0</td>\n",
       "      <td>0</td>\n",
       "      <td>0</td>\n",
       "      <td>0</td>\n",
       "      <td>0</td>\n",
       "      <td>0</td>\n",
       "      <td>0</td>\n",
       "      <td>0</td>\n",
       "      <td>...</td>\n",
       "      <td>0</td>\n",
       "      <td>0</td>\n",
       "      <td>0</td>\n",
       "      <td>0</td>\n",
       "      <td>0</td>\n",
       "      <td>0</td>\n",
       "      <td>0</td>\n",
       "      <td>0</td>\n",
       "      <td>0</td>\n",
       "      <td>0</td>\n",
       "    </tr>\n",
       "    <tr>\n",
       "      <th>2</th>\n",
       "      <td>0</td>\n",
       "      <td>0</td>\n",
       "      <td>0</td>\n",
       "      <td>0</td>\n",
       "      <td>0</td>\n",
       "      <td>0</td>\n",
       "      <td>0</td>\n",
       "      <td>0</td>\n",
       "      <td>0</td>\n",
       "      <td>0</td>\n",
       "      <td>...</td>\n",
       "      <td>0</td>\n",
       "      <td>0</td>\n",
       "      <td>0</td>\n",
       "      <td>0</td>\n",
       "      <td>0</td>\n",
       "      <td>0</td>\n",
       "      <td>0</td>\n",
       "      <td>0</td>\n",
       "      <td>0</td>\n",
       "      <td>0</td>\n",
       "    </tr>\n",
       "    <tr>\n",
       "      <th>3</th>\n",
       "      <td>0</td>\n",
       "      <td>0</td>\n",
       "      <td>0</td>\n",
       "      <td>0</td>\n",
       "      <td>0</td>\n",
       "      <td>0</td>\n",
       "      <td>0</td>\n",
       "      <td>0</td>\n",
       "      <td>0</td>\n",
       "      <td>0</td>\n",
       "      <td>...</td>\n",
       "      <td>0</td>\n",
       "      <td>0</td>\n",
       "      <td>0</td>\n",
       "      <td>0</td>\n",
       "      <td>0</td>\n",
       "      <td>0</td>\n",
       "      <td>0</td>\n",
       "      <td>0</td>\n",
       "      <td>0</td>\n",
       "      <td>0</td>\n",
       "    </tr>\n",
       "    <tr>\n",
       "      <th>4</th>\n",
       "      <td>0</td>\n",
       "      <td>0</td>\n",
       "      <td>0</td>\n",
       "      <td>0</td>\n",
       "      <td>0</td>\n",
       "      <td>0</td>\n",
       "      <td>0</td>\n",
       "      <td>0</td>\n",
       "      <td>0</td>\n",
       "      <td>0</td>\n",
       "      <td>...</td>\n",
       "      <td>0</td>\n",
       "      <td>0</td>\n",
       "      <td>0</td>\n",
       "      <td>0</td>\n",
       "      <td>0</td>\n",
       "      <td>0</td>\n",
       "      <td>0</td>\n",
       "      <td>0</td>\n",
       "      <td>0</td>\n",
       "      <td>0</td>\n",
       "    </tr>\n",
       "  </tbody>\n",
       "</table>\n",
       "<p>5 rows × 784 columns</p>\n",
       "</div>"
      ],
      "text/plain": [
       "   pixel0  pixel1  pixel2  pixel3  pixel4  pixel5  pixel6  pixel7  pixel8  \\\n",
       "0       0       0       0       0       0       0       0       0       0   \n",
       "1       0       0       0       0       0       0       0       0       0   \n",
       "2       0       0       0       0       0       0       0       0       0   \n",
       "3       0       0       0       0       0       0       0       0       0   \n",
       "4       0       0       0       0       0       0       0       0       0   \n",
       "\n",
       "   pixel9  ...  pixel774  pixel775  pixel776  pixel777  pixel778  pixel779  \\\n",
       "0       0  ...         0         0         0         0         0         0   \n",
       "1       0  ...         0         0         0         0         0         0   \n",
       "2       0  ...         0         0         0         0         0         0   \n",
       "3       0  ...         0         0         0         0         0         0   \n",
       "4       0  ...         0         0         0         0         0         0   \n",
       "\n",
       "   pixel780  pixel781  pixel782  pixel783  \n",
       "0         0         0         0         0  \n",
       "1         0         0         0         0  \n",
       "2         0         0         0         0  \n",
       "3         0         0         0         0  \n",
       "4         0         0         0         0  \n",
       "\n",
       "[5 rows x 784 columns]"
      ]
     },
     "execution_count": 3,
     "metadata": {},
     "output_type": "execute_result"
    }
   ],
   "source": [
    "# drop the data labels\n",
    "df = df.drop('label', axis=1)\n",
    "df.head()"
   ]
  },
  {
   "cell_type": "code",
   "execution_count": 4,
   "metadata": {},
   "outputs": [
    {
     "data": {
      "text/plain": [
       "(42000, 784)"
      ]
     },
     "execution_count": 4,
     "metadata": {},
     "output_type": "execute_result"
    }
   ],
   "source": [
    "# scale data\n",
    "data = np.array(df)\n",
    "\n",
    "scaler = MinMaxScaler()\n",
    "X = scaler.fit_transform(data)\n",
    "X.shape"
   ]
  },
  {
   "cell_type": "code",
   "execution_count": 5,
   "metadata": {},
   "outputs": [
    {
     "name": "stdout",
     "output_type": "stream",
     "text": [
      "(33600, 784)\n",
      "(33600, 10)\n",
      "(8400, 784)\n",
      "(8400, 10)\n"
     ]
    }
   ],
   "source": [
    "X_train = X[:33600]\n",
    "Y_train = labels[:33600]\n",
    "\n",
    "X_test = X[-8400:]\n",
    "Y_test = labels[-8400:]\n",
    "\n",
    "print(X_train.shape)\n",
    "print(Y_train.shape)\n",
    "\n",
    "print(X_test.shape)\n",
    "print(Y_test.shape)"
   ]
  },
  {
   "cell_type": "code",
   "execution_count": 6,
   "metadata": {},
   "outputs": [
    {
     "name": "stdout",
     "output_type": "stream",
     "text": [
      "Epoch: 1 Loss: 554243.7232108767  Accuracy: 0.11586309523809524\n",
      "Epoch: 2 Loss: 408726.76910110295  Accuracy: 0.1250892857142857\n",
      "Epoch: 3 Loss: 303320.8291640064  Accuracy: 0.13428571428571429\n",
      "Epoch: 4 Loss: 235683.154391966  Accuracy: 0.14425595238095237\n",
      "Epoch: 5 Loss: 195555.8420752218  Accuracy: 0.1530952380952381\n",
      "Epoch: 6 Loss: 170220.44441393684  Accuracy: 0.1593452380952381\n",
      "Epoch: 7 Loss: 151385.92875046976  Accuracy: 0.16773809523809524\n",
      "Epoch: 8 Loss: 136207.07775833676  Accuracy: 0.17395833333333333\n",
      "Epoch: 9 Loss: 123889.29459547687  Accuracy: 0.1825595238095238\n",
      "Epoch: 10 Loss: 113994.80089594646  Accuracy: 0.18833333333333332\n",
      "Epoch: 11 Loss: 106072.35754518866  Accuracy: 0.19020833333333334\n",
      "Epoch: 12 Loss: 99749.75944329811  Accuracy: 0.19288690476190476\n",
      "Epoch: 13 Loss: 94654.54679147444  Accuracy: 0.19401785714285713\n",
      "Epoch: 14 Loss: 90529.2672060543  Accuracy: 0.19529761904761905\n",
      "Epoch: 15 Loss: 87127.99448600283  Accuracy: 0.19788690476190476\n",
      "Epoch: 16 Loss: 84296.61155886977  Accuracy: 0.2012797619047619\n",
      "Epoch: 17 Loss: 81904.27050739384  Accuracy: 0.20482142857142857\n",
      "Epoch: 18 Loss: 79876.94738070361  Accuracy: 0.2069047619047619\n",
      "Epoch: 19 Loss: 78150.03883696395  Accuracy: 0.21291666666666667\n",
      "Epoch: 20 Loss: 76645.61404057154  Accuracy: 0.22125\n",
      "Epoch: 21 Loss: 75312.67830675258  Accuracy: 0.23038690476190476\n",
      "Epoch: 22 Loss: 74117.98819223266  Accuracy: 0.24136904761904762\n",
      "Epoch: 23 Loss: 73027.20780337314  Accuracy: 0.25297619047619047\n",
      "Epoch: 24 Loss: 72007.81199926986  Accuracy: 0.2673511904761905\n",
      "Epoch: 25 Loss: 71038.29991640158  Accuracy: 0.27690476190476193\n",
      "Epoch: 26 Loss: 70094.90221805309  Accuracy: 0.2876488095238095\n",
      "Epoch: 27 Loss: 69174.89427820581  Accuracy: 0.29735119047619046\n",
      "Epoch: 28 Loss: 68275.66577002329  Accuracy: 0.30547619047619046\n",
      "Epoch: 29 Loss: 67396.75167007752  Accuracy: 0.314047619047619\n",
      "Epoch: 30 Loss: 66542.49830402044  Accuracy: 0.3219642857142857\n",
      "Epoch: 31 Loss: 65712.10304588267  Accuracy: 0.3290773809523809\n",
      "Epoch: 32 Loss: 64916.22159697535  Accuracy: 0.33726190476190476\n",
      "Epoch: 33 Loss: 64148.882163817056  Accuracy: 0.3448809523809524\n",
      "Epoch: 34 Loss: 63402.38999111337  Accuracy: 0.35157738095238095\n",
      "Epoch: 35 Loss: 62675.89076506453  Accuracy: 0.3580654761904762\n",
      "Epoch: 36 Loss: 61981.106882277665  Accuracy: 0.3641666666666667\n",
      "Epoch: 37 Loss: 61314.55631120202  Accuracy: 0.3705059523809524\n",
      "Epoch: 38 Loss: 60678.466423602535  Accuracy: 0.37720238095238096\n",
      "Epoch: 39 Loss: 60063.15682734134  Accuracy: 0.3835119047619048\n",
      "Epoch: 40 Loss: 59462.694246209176  Accuracy: 0.3892261904761905\n",
      "Epoch: 41 Loss: 58876.56751135269  Accuracy: 0.3944345238095238\n",
      "Epoch: 42 Loss: 58304.47690318975  Accuracy: 0.4000595238095238\n",
      "Epoch: 43 Loss: 57746.11120341706  Accuracy: 0.40574404761904764\n",
      "Epoch: 44 Loss: 57200.94768371789  Accuracy: 0.41214285714285714\n",
      "Epoch: 45 Loss: 56668.507196597944  Accuracy: 0.41675595238095237\n",
      "Epoch: 46 Loss: 56142.268293723704  Accuracy: 0.42273809523809525\n",
      "Epoch: 47 Loss: 55623.6957845716  Accuracy: 0.42738095238095236\n",
      "Epoch: 48 Loss: 55111.047450906364  Accuracy: 0.43276785714285715\n",
      "Epoch: 49 Loss: 54596.06389737794  Accuracy: 0.43794642857142857\n",
      "Epoch: 50 Loss: 54082.83823165452  Accuracy: 0.441875\n",
      "Epoch: 51 Loss: 53570.37612508034  Accuracy: 0.44857142857142857\n",
      "Epoch: 52 Loss: 53061.041918621966  Accuracy: 0.4538988095238095\n",
      "Epoch: 53 Loss: 52557.11445857263  Accuracy: 0.45726190476190476\n",
      "Epoch: 54 Loss: 52051.39125181724  Accuracy: 0.46214285714285713\n",
      "Epoch: 55 Loss: 51541.124604377874  Accuracy: 0.46791666666666665\n",
      "Epoch: 56 Loss: 51026.558916141206  Accuracy: 0.47523809523809524\n",
      "Epoch: 57 Loss: 50513.19485369206  Accuracy: 0.4831547619047619\n",
      "Epoch: 58 Loss: 49995.907352228365  Accuracy: 0.49178571428571427\n",
      "Epoch: 59 Loss: 49479.71540392138  Accuracy: 0.5000297619047619\n",
      "Epoch: 60 Loss: 48976.896151462584  Accuracy: 0.5070535714285714\n",
      "Epoch: 61 Loss: 48488.8807476063  Accuracy: 0.5125\n",
      "Epoch: 62 Loss: 48015.87356717836  Accuracy: 0.5170535714285714\n",
      "Epoch: 63 Loss: 47553.36187498563  Accuracy: 0.5221428571428571\n",
      "Epoch: 64 Loss: 47094.727310982315  Accuracy: 0.5267857142857143\n",
      "Epoch: 65 Loss: 46633.89749157736  Accuracy: 0.5318452380952381\n",
      "Epoch: 66 Loss: 46162.58863544763  Accuracy: 0.5361011904761904\n",
      "Epoch: 67 Loss: 45684.238859609584  Accuracy: 0.5417857142857143\n",
      "Epoch: 68 Loss: 45201.68385772307  Accuracy: 0.5463988095238095\n",
      "Epoch: 69 Loss: 44716.144410278925  Accuracy: 0.5527678571428571\n",
      "Epoch: 70 Loss: 44236.89540927884  Accuracy: 0.5591666666666667\n",
      "Epoch: 71 Loss: 43762.242808394934  Accuracy: 0.5644345238095239\n",
      "Epoch: 72 Loss: 43295.06628997818  Accuracy: 0.570297619047619\n",
      "Epoch: 73 Loss: 42836.559796796784  Accuracy: 0.5766071428571429\n",
      "Epoch: 74 Loss: 42387.24557871146  Accuracy: 0.5820238095238095\n",
      "Epoch: 75 Loss: 41939.452353842185  Accuracy: 0.5874107142857142\n",
      "Epoch: 76 Loss: 41497.586275161724  Accuracy: 0.5929166666666666\n",
      "Epoch: 77 Loss: 41059.94998049926  Accuracy: 0.5991666666666666\n",
      "Epoch: 78 Loss: 40629.30202764872  Accuracy: 0.6043452380952381\n",
      "Epoch: 79 Loss: 40207.29697046619  Accuracy: 0.6096428571428572\n",
      "Epoch: 80 Loss: 39795.252666963635  Accuracy: 0.6141071428571429\n",
      "Epoch: 81 Loss: 39389.53602930166  Accuracy: 0.6176488095238095\n",
      "Epoch: 82 Loss: 38984.93914548104  Accuracy: 0.623125\n",
      "Epoch: 83 Loss: 38587.55756369641  Accuracy: 0.6280357142857143\n",
      "Epoch: 84 Loss: 38201.36151251026  Accuracy: 0.633095238095238\n",
      "Epoch: 85 Loss: 37829.38322618118  Accuracy: 0.6383333333333333\n",
      "Epoch: 86 Loss: 37470.156124982095  Accuracy: 0.643452380952381\n",
      "Epoch: 87 Loss: 37120.925024559416  Accuracy: 0.6477083333333333\n",
      "Epoch: 88 Loss: 36780.10357010196  Accuracy: 0.6523214285714286\n",
      "Epoch: 89 Loss: 36446.69906300712  Accuracy: 0.6557738095238095\n",
      "Epoch: 90 Loss: 36121.46751933514  Accuracy: 0.6599702380952381\n",
      "Epoch: 91 Loss: 35803.633734724484  Accuracy: 0.6639880952380952\n",
      "Epoch: 92 Loss: 35492.360346400856  Accuracy: 0.6674702380952381\n",
      "Epoch: 93 Loss: 35188.9327648413  Accuracy: 0.6710714285714285\n",
      "Epoch: 94 Loss: 34892.92918813651  Accuracy: 0.6738690476190476\n",
      "Epoch: 95 Loss: 34603.23882905754  Accuracy: 0.6761607142857143\n",
      "Epoch: 96 Loss: 34320.00744552691  Accuracy: 0.6794642857142857\n",
      "Epoch: 97 Loss: 34043.48280204062  Accuracy: 0.6815178571428572\n",
      "Epoch: 98 Loss: 33773.233877763254  Accuracy: 0.6847619047619048\n",
      "Epoch: 99 Loss: 33508.30674908542  Accuracy: 0.6873214285714285\n",
      "Epoch: 100 Loss: 33247.82069467972  Accuracy: 0.6900595238095238\n",
      "Epoch: 101 Loss: 32990.01251142619  Accuracy: 0.6933035714285715\n",
      "Epoch: 102 Loss: 32737.172882389932  Accuracy: 0.6967559523809523\n",
      "Epoch: 103 Loss: 32489.114333456695  Accuracy: 0.6999404761904762\n",
      "Epoch: 104 Loss: 32246.310220676874  Accuracy: 0.7023214285714285\n",
      "Epoch: 105 Loss: 32007.950063119366  Accuracy: 0.7050297619047619\n",
      "Epoch: 106 Loss: 31773.302105718987  Accuracy: 0.7077976190476191\n",
      "Epoch: 107 Loss: 31542.63644623053  Accuracy: 0.7102083333333333\n",
      "Epoch: 108 Loss: 31315.68793557048  Accuracy: 0.7118154761904761\n",
      "Epoch: 109 Loss: 31091.44142879088  Accuracy: 0.7141369047619047\n",
      "Epoch: 110 Loss: 30871.085800586032  Accuracy: 0.7165476190476191\n",
      "Epoch: 111 Loss: 30654.943173126674  Accuracy: 0.7190178571428572\n",
      "Epoch: 112 Loss: 30442.48232575909  Accuracy: 0.7206845238095239\n",
      "Epoch: 113 Loss: 30232.048347051586  Accuracy: 0.7229464285714285\n",
      "Epoch: 114 Loss: 30024.954838392045  Accuracy: 0.7250892857142858\n",
      "Epoch: 115 Loss: 29819.655639705896  Accuracy: 0.7266071428571429\n",
      "Epoch: 116 Loss: 29615.70286282894  Accuracy: 0.7286607142857143\n",
      "Epoch: 117 Loss: 29413.12812255745  Accuracy: 0.7307142857142858\n",
      "Epoch: 118 Loss: 29213.580220737702  Accuracy: 0.7329761904761904\n",
      "Epoch: 119 Loss: 29015.6635187707  Accuracy: 0.7352380952380952\n",
      "Epoch: 120 Loss: 28819.496292298518  Accuracy: 0.7372916666666667\n"
     ]
    }
   ],
   "source": [
    "import nnet\n",
    "\n",
    "def get_accuracy(Y, Y_hat):\n",
    "    return np.sum(np.argmax(Y, 0) == np.argmax(Y_hat, 0)) / Y.shape[1]\n",
    "\n",
    "model = nnet.Sequential([\n",
    "    nnet.Layer((784, 12), nnet.activation.ReLu),\n",
    "    nnet.Layer((12, 10), nnet.activation.ReLu),\n",
    "    nnet.Layer((10, 10), nnet.activation.Softmax)\n",
    "])\n",
    "\n",
    "# train the model\n",
    "model.fit(X_train, Y_train, 120, nnet.loss.CategoricalCrossEntropy, nnet.optimizers.Adam(), accuracy_metric=get_accuracy)"
   ]
  },
  {
   "cell_type": "code",
   "execution_count": 7,
   "metadata": {},
   "outputs": [
    {
     "name": "stdout",
     "output_type": "stream",
     "text": [
      "Epoch: 1 Loss: 28625.037062973086  Accuracy: 0.7389285714285714\n",
      "Epoch: 2 Loss: 27933.972133270814  Accuracy: 0.7466071428571428\n",
      "Epoch: 3 Loss: 27454.555455503287  Accuracy: 0.7505654761904762\n",
      "Epoch: 4 Loss: 26870.0577231229  Accuracy: 0.7581547619047619\n",
      "Epoch: 5 Loss: 26373.816969855106  Accuracy: 0.762529761904762\n",
      "Epoch: 6 Loss: 25837.61523657555  Accuracy: 0.7665773809523809\n",
      "Epoch: 7 Loss: 25380.848136580116  Accuracy: 0.7696428571428572\n",
      "Epoch: 8 Loss: 24967.132981777588  Accuracy: 0.7730654761904762\n",
      "Epoch: 9 Loss: 24491.32689133938  Accuracy: 0.7780357142857143\n",
      "Epoch: 10 Loss: 24031.656663523274  Accuracy: 0.7830357142857143\n",
      "Epoch: 11 Loss: 23668.683374412743  Accuracy: 0.7863392857142857\n",
      "Epoch: 12 Loss: 23272.994959303527  Accuracy: 0.7888988095238095\n",
      "Epoch: 13 Loss: 22836.48771877836  Accuracy: 0.7936607142857143\n",
      "Epoch: 14 Loss: 22460.874474679174  Accuracy: 0.7973214285714286\n",
      "Epoch: 15 Loss: 22105.446666556105  Accuracy: 0.80125\n",
      "Epoch: 16 Loss: 21727.53843970245  Accuracy: 0.8043452380952381\n",
      "Epoch: 17 Loss: 21355.21631695074  Accuracy: 0.808125\n",
      "Epoch: 18 Loss: 21002.673105480997  Accuracy: 0.8110119047619048\n",
      "Epoch: 19 Loss: 20655.398145493913  Accuracy: 0.8141369047619048\n",
      "Epoch: 20 Loss: 20302.494667520023  Accuracy: 0.8170535714285714\n",
      "Epoch: 21 Loss: 19962.79280456817  Accuracy: 0.820625\n",
      "Epoch: 22 Loss: 19627.005083517088  Accuracy: 0.8236904761904762\n",
      "Epoch: 23 Loss: 19280.765691504384  Accuracy: 0.8272916666666666\n",
      "Epoch: 24 Loss: 18949.21948597206  Accuracy: 0.8301488095238095\n",
      "Epoch: 25 Loss: 18630.947076689434  Accuracy: 0.8335119047619047\n",
      "Epoch: 26 Loss: 18313.1105037216  Accuracy: 0.8367857142857142\n",
      "Epoch: 27 Loss: 17991.040831826507  Accuracy: 0.8394345238095238\n",
      "Epoch: 28 Loss: 17680.1097959093  Accuracy: 0.8417559523809524\n",
      "Epoch: 29 Loss: 17378.1517050565  Accuracy: 0.844375\n",
      "Epoch: 30 Loss: 17083.573497234676  Accuracy: 0.846547619047619\n",
      "Epoch: 31 Loss: 16800.86472417213  Accuracy: 0.8490178571428572\n",
      "Epoch: 32 Loss: 16519.881087617185  Accuracy: 0.8514285714285714\n",
      "Epoch: 33 Loss: 16242.84302964303  Accuracy: 0.8537202380952381\n",
      "Epoch: 34 Loss: 15967.301497896548  Accuracy: 0.8563095238095239\n",
      "Epoch: 35 Loss: 15694.478282460097  Accuracy: 0.858452380952381\n",
      "Epoch: 36 Loss: 15428.358358126197  Accuracy: 0.8614285714285714\n",
      "Epoch: 37 Loss: 15168.455634809883  Accuracy: 0.8643154761904762\n",
      "Epoch: 38 Loss: 14907.396476754126  Accuracy: 0.8666964285714286\n",
      "Epoch: 39 Loss: 14658.123043118338  Accuracy: 0.869077380952381\n",
      "Epoch: 40 Loss: 14414.679996783125  Accuracy: 0.871547619047619\n",
      "Epoch: 41 Loss: 14180.347541856481  Accuracy: 0.874077380952381\n",
      "Epoch: 42 Loss: 13952.23007727412  Accuracy: 0.87625\n",
      "Epoch: 43 Loss: 13733.072918667085  Accuracy: 0.8780357142857143\n",
      "Epoch: 44 Loss: 13516.858166209964  Accuracy: 0.8791666666666667\n",
      "Epoch: 45 Loss: 13310.705935007825  Accuracy: 0.8816369047619048\n",
      "Epoch: 46 Loss: 13112.676896807283  Accuracy: 0.8834226190476191\n",
      "Epoch: 47 Loss: 12920.496712364784  Accuracy: 0.8851785714285715\n",
      "Epoch: 48 Loss: 12737.666272292301  Accuracy: 0.8862797619047619\n",
      "Epoch: 49 Loss: 12562.277227512663  Accuracy: 0.8874404761904762\n",
      "Epoch: 50 Loss: 12392.725379965212  Accuracy: 0.8893154761904762\n",
      "Epoch: 51 Loss: 12228.292333341922  Accuracy: 0.8910416666666666\n",
      "Epoch: 52 Loss: 12068.978404832616  Accuracy: 0.8922916666666667\n",
      "Epoch: 53 Loss: 11912.2354560419  Accuracy: 0.8938392857142857\n",
      "Epoch: 54 Loss: 11763.840421914321  Accuracy: 0.895625\n",
      "Epoch: 55 Loss: 11622.382766072764  Accuracy: 0.8970535714285715\n",
      "Epoch: 56 Loss: 11485.454789934854  Accuracy: 0.898125\n",
      "Epoch: 57 Loss: 11353.358967039143  Accuracy: 0.8994345238095238\n",
      "Epoch: 58 Loss: 11225.987284982262  Accuracy: 0.9004166666666666\n",
      "Epoch: 59 Loss: 11099.945740306255  Accuracy: 0.9014583333333334\n",
      "Epoch: 60 Loss: 10975.12773219791  Accuracy: 0.9026785714285714\n",
      "Epoch: 61 Loss: 10850.061904099382  Accuracy: 0.9039285714285714\n",
      "Epoch: 62 Loss: 10728.656637106493  Accuracy: 0.9052678571428572\n",
      "Epoch: 63 Loss: 10609.732308838968  Accuracy: 0.9063690476190476\n",
      "Epoch: 64 Loss: 10497.360591686805  Accuracy: 0.9071428571428571\n",
      "Epoch: 65 Loss: 10386.48228690904  Accuracy: 0.9080059523809524\n",
      "Epoch: 66 Loss: 10278.632900140783  Accuracy: 0.9088392857142857\n",
      "Epoch: 67 Loss: 10176.590712174746  Accuracy: 0.9099107142857142\n",
      "Epoch: 68 Loss: 10076.05159983888  Accuracy: 0.9105952380952381\n",
      "Epoch: 69 Loss: 9973.54569831657  Accuracy: 0.9115178571428572\n",
      "Epoch: 70 Loss: 9870.76827115001  Accuracy: 0.9119345238095238\n",
      "Epoch: 71 Loss: 9770.041167515818  Accuracy: 0.9125297619047619\n",
      "Epoch: 72 Loss: 9671.410612298485  Accuracy: 0.9132440476190476\n",
      "Epoch: 73 Loss: 9573.257286905171  Accuracy: 0.9138988095238095\n",
      "Epoch: 74 Loss: 9477.581934797963  Accuracy: 0.9147321428571429\n",
      "Epoch: 75 Loss: 9385.34187282247  Accuracy: 0.9154464285714285\n",
      "Epoch: 76 Loss: 9293.372933583038  Accuracy: 0.9165178571428572\n",
      "Epoch: 77 Loss: 9201.782452430096  Accuracy: 0.917172619047619\n",
      "Epoch: 78 Loss: 9113.697124701099  Accuracy: 0.918125\n",
      "Epoch: 79 Loss: 9029.322108454342  Accuracy: 0.919047619047619\n",
      "Epoch: 80 Loss: 8947.537039664654  Accuracy: 0.9197916666666667\n",
      "Epoch: 81 Loss: 8868.25757377783  Accuracy: 0.9205059523809523\n",
      "Epoch: 82 Loss: 8792.250002087  Accuracy: 0.9213690476190476\n",
      "Epoch: 83 Loss: 8717.652354097254  Accuracy: 0.9219940476190476\n",
      "Epoch: 84 Loss: 8644.47970924802  Accuracy: 0.922172619047619\n",
      "Epoch: 85 Loss: 8573.383917603223  Accuracy: 0.9231547619047619\n",
      "Epoch: 86 Loss: 8505.870949644628  Accuracy: 0.9237797619047619\n",
      "Epoch: 87 Loss: 8440.074907848666  Accuracy: 0.9245238095238095\n",
      "Epoch: 88 Loss: 8374.4984226243  Accuracy: 0.9247916666666667\n",
      "Epoch: 89 Loss: 8311.250692315058  Accuracy: 0.9254761904761905\n",
      "Epoch: 90 Loss: 8250.154571567855  Accuracy: 0.9260714285714285\n",
      "Epoch: 91 Loss: 8190.609803318894  Accuracy: 0.9267261904761904\n",
      "Epoch: 92 Loss: 8132.487208019647  Accuracy: 0.9275892857142857\n",
      "Epoch: 93 Loss: 8076.008993401444  Accuracy: 0.9282440476190477\n",
      "Epoch: 94 Loss: 8021.21087402803  Accuracy: 0.9287202380952381\n",
      "Epoch: 95 Loss: 7968.093790172701  Accuracy: 0.9291666666666667\n",
      "Epoch: 96 Loss: 7917.580231951913  Accuracy: 0.9295833333333333\n",
      "Epoch: 97 Loss: 7866.526205036714  Accuracy: 0.9302678571428571\n",
      "Epoch: 98 Loss: 7812.261437380835  Accuracy: 0.9307440476190476\n",
      "Epoch: 99 Loss: 7759.024592479372  Accuracy: 0.9315178571428572\n",
      "Epoch: 100 Loss: 7710.668234618679  Accuracy: 0.9319940476190476\n"
     ]
    }
   ],
   "source": [
    "# train the model further\n",
    "model.fit(X_train, Y_train, 100, nnet.loss.CategoricalCrossEntropy, nnet.optimizers.Adam(), accuracy_metric=get_accuracy)"
   ]
  },
  {
   "cell_type": "code",
   "execution_count": 8,
   "metadata": {},
   "outputs": [
    {
     "data": {
      "text/plain": [
       "0.9186904761904762"
      ]
     },
     "execution_count": 8,
     "metadata": {},
     "output_type": "execute_result"
    }
   ],
   "source": [
    "# get test accuracy\n",
    "get_accuracy(Y_test.T, model.predict(X_test))"
   ]
  },
  {
   "cell_type": "code",
   "execution_count": 9,
   "metadata": {},
   "outputs": [],
   "source": [
    "# test model\n",
    "import matplotlib.pyplot as plt\n",
    "\n",
    "def test_prediction(index: int):\n",
    "    current = np.array([X_test[index]])\n",
    "    \n",
    "    y_pred = model.predict(current)\n",
    "    print('Prediction', np.argmax(y_pred, 0)[0])\n",
    "    print('Label', np.argmax(Y_test[index]))\n",
    "    \n",
    "    current_image = current.T.reshape((28, 28)) * 255\n",
    "    plt.gray()\n",
    "    plt.imshow(current_image, interpolation='nearest')\n",
    "    plt.show()"
   ]
  },
  {
   "cell_type": "code",
   "execution_count": 10,
   "metadata": {},
   "outputs": [
    {
     "name": "stdout",
     "output_type": "stream",
     "text": [
      "Prediction 7\n",
      "Label 7\n"
     ]
    },
    {
     "data": {
      "image/png": "[encoded data removed]",
      "text/plain": [
       "<Figure size 640x480 with 1 Axes>"
      ]
     },
     "metadata": {},
     "output_type": "display_data"
    }
   ],
   "source": [
    "test_prediction(2)"
   ]
  },
  {
   "cell_type": "code",
   "execution_count": 11,
   "metadata": {},
   "outputs": [
    {
     "name": "stdout",
     "output_type": "stream",
     "text": [
      "Prediction 2\n",
      "Label 2\n"
     ]
    },
    {
     "data": {
      "image/png": "[encoded data removed]",
      "text/plain": [
       "<Figure size 640x480 with 1 Axes>"
      ]
     },
     "metadata": {},
     "output_type": "display_data"
    }
   ],
   "source": [
    "test_prediction(126)"
   ]
  },
  {
   "cell_type": "code",
   "execution_count": 12,
   "metadata": {},
   "outputs": [
    {
     "name": "stdout",
     "output_type": "stream",
     "text": [
      "Prediction 3\n",
      "Label 3\n"
     ]
    },
    {
     "data": {
      "image/png": "[encoded data removed]",
      "text/plain": [
       "<Figure size 640x480 with 1 Axes>"
      ]
     },
     "metadata": {},
     "output_type": "display_data"
    }
   ],
   "source": [
    "test_prediction(54)"
   ]
  },
  {
   "cell_type": "code",
   "execution_count": 13,
   "metadata": {},
   "outputs": [
    {
     "name": "stdout",
     "output_type": "stream",
     "text": [
      "Prediction 9\n",
      "Label 9\n"
     ]
    },
    {
     "data": {
      "image/png": "[encoded data removed]",
      "text/plain": [
       "<Figure size 640x480 with 1 Axes>"
      ]
     },
     "metadata": {},
     "output_type": "display_data"
    }
   ],
   "source": [
    "test_prediction(62)"
   ]
  },
  {
   "cell_type": "code",
   "execution_count": 14,
   "metadata": {},
   "outputs": [
    {
     "name": "stdout",
     "output_type": "stream",
     "text": [
      "Prediction 8\n",
      "Label 8\n"
     ]
    },
    {
     "data": {
      "image/png": "[encoded data removed]",
      "text/plain": [
       "<Figure size 640x480 with 1 Axes>"
      ]
     },
     "metadata": {},
     "output_type": "display_data"
    }
   ],
   "source": [
    "test_prediction(39)"
   ]
  },
  {
   "cell_type": "code",
   "execution_count": 21,
   "metadata": {},
   "outputs": [
    {
     "name": "stdout",
     "output_type": "stream",
     "text": [
      "Prediction 5\n",
      "Label 5\n"
     ]
    },
    {
     "data": {
      "image/png": "[encoded data removed]",
      "text/plain": [
       "<Figure size 640x480 with 1 Axes>"
      ]
     },
     "metadata": {},
     "output_type": "display_data"
    }
   ],
   "source": [
    "test_prediction(9)"
   ]
  }
 ],
 "metadata": {
  "kernelspec": {
   "display_name": "Python 3.11.5 ('venv': venv)",
   "language": "python",
   "name": "python3"
  },
  "language_info": {
   "codemirror_mode": {
    "name": "ipython",
    "version": 3
   },
   "file_extension": ".py",
   "mimetype": "text/x-python",
   "name": "python",
   "nbconvert_exporter": "python",
   "pygments_lexer": "ipython3",
   "version": "3.11.5"
  },
  "orig_nbformat": 4,
  "vscode": {
   "interpreter": {
    "hash": "3e248e8823122d6c7234371ee991cc4810791faba3b9f400ab196a38c557164b"
   }
  }
 },
 "nbformat": 4,
 "nbformat_minor": 2
}
