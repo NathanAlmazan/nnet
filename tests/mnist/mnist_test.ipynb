{
 "cells": [
  {
   "cell_type": "code",
   "execution_count": 9,
   "metadata": {},
   "outputs": [
    {
     "data": {
      "text/html": [
       "<div>\n",
       "<style scoped>\n",
       "    .dataframe tbody tr th:only-of-type {\n",
       "        vertical-align: middle;\n",
       "    }\n",
       "\n",
       "    .dataframe tbody tr th {\n",
       "        vertical-align: top;\n",
       "    }\n",
       "\n",
       "    .dataframe thead th {\n",
       "        text-align: right;\n",
       "    }\n",
       "</style>\n",
       "<table border=\"1\" class=\"dataframe\">\n",
       "  <thead>\n",
       "    <tr style=\"text-align: right;\">\n",
       "      <th></th>\n",
       "      <th>label</th>\n",
       "      <th>pixel0</th>\n",
       "      <th>pixel1</th>\n",
       "      <th>pixel2</th>\n",
       "      <th>pixel3</th>\n",
       "      <th>pixel4</th>\n",
       "      <th>pixel5</th>\n",
       "      <th>pixel6</th>\n",
       "      <th>pixel7</th>\n",
       "      <th>pixel8</th>\n",
       "      <th>...</th>\n",
       "      <th>pixel774</th>\n",
       "      <th>pixel775</th>\n",
       "      <th>pixel776</th>\n",
       "      <th>pixel777</th>\n",
       "      <th>pixel778</th>\n",
       "      <th>pixel779</th>\n",
       "      <th>pixel780</th>\n",
       "      <th>pixel781</th>\n",
       "      <th>pixel782</th>\n",
       "      <th>pixel783</th>\n",
       "    </tr>\n",
       "  </thead>\n",
       "  <tbody>\n",
       "    <tr>\n",
       "      <th>0</th>\n",
       "      <td>1</td>\n",
       "      <td>0</td>\n",
       "      <td>0</td>\n",
       "      <td>0</td>\n",
       "      <td>0</td>\n",
       "      <td>0</td>\n",
       "      <td>0</td>\n",
       "      <td>0</td>\n",
       "      <td>0</td>\n",
       "      <td>0</td>\n",
       "      <td>...</td>\n",
       "      <td>0</td>\n",
       "      <td>0</td>\n",
       "      <td>0</td>\n",
       "      <td>0</td>\n",
       "      <td>0</td>\n",
       "      <td>0</td>\n",
       "      <td>0</td>\n",
       "      <td>0</td>\n",
       "      <td>0</td>\n",
       "      <td>0</td>\n",
       "    </tr>\n",
       "    <tr>\n",
       "      <th>1</th>\n",
       "      <td>0</td>\n",
       "      <td>0</td>\n",
       "      <td>0</td>\n",
       "      <td>0</td>\n",
       "      <td>0</td>\n",
       "      <td>0</td>\n",
       "      <td>0</td>\n",
       "      <td>0</td>\n",
       "      <td>0</td>\n",
       "      <td>0</td>\n",
       "      <td>...</td>\n",
       "      <td>0</td>\n",
       "      <td>0</td>\n",
       "      <td>0</td>\n",
       "      <td>0</td>\n",
       "      <td>0</td>\n",
       "      <td>0</td>\n",
       "      <td>0</td>\n",
       "      <td>0</td>\n",
       "      <td>0</td>\n",
       "      <td>0</td>\n",
       "    </tr>\n",
       "    <tr>\n",
       "      <th>2</th>\n",
       "      <td>1</td>\n",
       "      <td>0</td>\n",
       "      <td>0</td>\n",
       "      <td>0</td>\n",
       "      <td>0</td>\n",
       "      <td>0</td>\n",
       "      <td>0</td>\n",
       "      <td>0</td>\n",
       "      <td>0</td>\n",
       "      <td>0</td>\n",
       "      <td>...</td>\n",
       "      <td>0</td>\n",
       "      <td>0</td>\n",
       "      <td>0</td>\n",
       "      <td>0</td>\n",
       "      <td>0</td>\n",
       "      <td>0</td>\n",
       "      <td>0</td>\n",
       "      <td>0</td>\n",
       "      <td>0</td>\n",
       "      <td>0</td>\n",
       "    </tr>\n",
       "    <tr>\n",
       "      <th>3</th>\n",
       "      <td>4</td>\n",
       "      <td>0</td>\n",
       "      <td>0</td>\n",
       "      <td>0</td>\n",
       "      <td>0</td>\n",
       "      <td>0</td>\n",
       "      <td>0</td>\n",
       "      <td>0</td>\n",
       "      <td>0</td>\n",
       "      <td>0</td>\n",
       "      <td>...</td>\n",
       "      <td>0</td>\n",
       "      <td>0</td>\n",
       "      <td>0</td>\n",
       "      <td>0</td>\n",
       "      <td>0</td>\n",
       "      <td>0</td>\n",
       "      <td>0</td>\n",
       "      <td>0</td>\n",
       "      <td>0</td>\n",
       "      <td>0</td>\n",
       "    </tr>\n",
       "    <tr>\n",
       "      <th>4</th>\n",
       "      <td>0</td>\n",
       "      <td>0</td>\n",
       "      <td>0</td>\n",
       "      <td>0</td>\n",
       "      <td>0</td>\n",
       "      <td>0</td>\n",
       "      <td>0</td>\n",
       "      <td>0</td>\n",
       "      <td>0</td>\n",
       "      <td>0</td>\n",
       "      <td>...</td>\n",
       "      <td>0</td>\n",
       "      <td>0</td>\n",
       "      <td>0</td>\n",
       "      <td>0</td>\n",
       "      <td>0</td>\n",
       "      <td>0</td>\n",
       "      <td>0</td>\n",
       "      <td>0</td>\n",
       "      <td>0</td>\n",
       "      <td>0</td>\n",
       "    </tr>\n",
       "  </tbody>\n",
       "</table>\n",
       "<p>5 rows × 785 columns</p>\n",
       "</div>"
      ],
      "text/plain": [
       "   label  pixel0  pixel1  pixel2  pixel3  pixel4  pixel5  pixel6  pixel7  \\\n",
       "0      1       0       0       0       0       0       0       0       0   \n",
       "1      0       0       0       0       0       0       0       0       0   \n",
       "2      1       0       0       0       0       0       0       0       0   \n",
       "3      4       0       0       0       0       0       0       0       0   \n",
       "4      0       0       0       0       0       0       0       0       0   \n",
       "\n",
       "   pixel8  ...  pixel774  pixel775  pixel776  pixel777  pixel778  pixel779  \\\n",
       "0       0  ...         0         0         0         0         0         0   \n",
       "1       0  ...         0         0         0         0         0         0   \n",
       "2       0  ...         0         0         0         0         0         0   \n",
       "3       0  ...         0         0         0         0         0         0   \n",
       "4       0  ...         0         0         0         0         0         0   \n",
       "\n",
       "   pixel780  pixel781  pixel782  pixel783  \n",
       "0         0         0         0         0  \n",
       "1         0         0         0         0  \n",
       "2         0         0         0         0  \n",
       "3         0         0         0         0  \n",
       "4         0         0         0         0  \n",
       "\n",
       "[5 rows x 785 columns]"
      ]
     },
     "execution_count": 9,
     "metadata": {},
     "output_type": "execute_result"
    }
   ],
   "source": [
    "import pandas as pd\n",
    "import numpy as np\n",
    "from sklearn.preprocessing import MinMaxScaler\n",
    "\n",
    "\n",
    "# define dataset\n",
    "df = pd.read_csv('mnist_dataset.csv')\n",
    "df.sample(frac = 1) # shuffle\n",
    "df.head()"
   ]
  },
  {
   "cell_type": "code",
   "execution_count": 10,
   "metadata": {},
   "outputs": [
    {
     "data": {
      "text/plain": [
       "(42000, 10)"
      ]
     },
     "execution_count": 10,
     "metadata": {},
     "output_type": "execute_result"
    }
   ],
   "source": [
    "# get the data labels\n",
    "labels = df.loc[:, 'label']\n",
    "labels = np.array(labels)\n",
    "\n",
    "hot_encoded_labels = []\n",
    "for label in labels:\n",
    "    temp = np.zeros(10)\n",
    "    temp[label] = 1\n",
    "    hot_encoded_labels.append(temp)\n",
    "    \n",
    "labels = np.array(hot_encoded_labels)\n",
    "labels.shape"
   ]
  },
  {
   "cell_type": "code",
   "execution_count": 11,
   "metadata": {},
   "outputs": [
    {
     "data": {
      "text/html": [
       "<div>\n",
       "<style scoped>\n",
       "    .dataframe tbody tr th:only-of-type {\n",
       "        vertical-align: middle;\n",
       "    }\n",
       "\n",
       "    .dataframe tbody tr th {\n",
       "        vertical-align: top;\n",
       "    }\n",
       "\n",
       "    .dataframe thead th {\n",
       "        text-align: right;\n",
       "    }\n",
       "</style>\n",
       "<table border=\"1\" class=\"dataframe\">\n",
       "  <thead>\n",
       "    <tr style=\"text-align: right;\">\n",
       "      <th></th>\n",
       "      <th>pixel0</th>\n",
       "      <th>pixel1</th>\n",
       "      <th>pixel2</th>\n",
       "      <th>pixel3</th>\n",
       "      <th>pixel4</th>\n",
       "      <th>pixel5</th>\n",
       "      <th>pixel6</th>\n",
       "      <th>pixel7</th>\n",
       "      <th>pixel8</th>\n",
       "      <th>pixel9</th>\n",
       "      <th>...</th>\n",
       "      <th>pixel774</th>\n",
       "      <th>pixel775</th>\n",
       "      <th>pixel776</th>\n",
       "      <th>pixel777</th>\n",
       "      <th>pixel778</th>\n",
       "      <th>pixel779</th>\n",
       "      <th>pixel780</th>\n",
       "      <th>pixel781</th>\n",
       "      <th>pixel782</th>\n",
       "      <th>pixel783</th>\n",
       "    </tr>\n",
       "  </thead>\n",
       "  <tbody>\n",
       "    <tr>\n",
       "      <th>0</th>\n",
       "      <td>0</td>\n",
       "      <td>0</td>\n",
       "      <td>0</td>\n",
       "      <td>0</td>\n",
       "      <td>0</td>\n",
       "      <td>0</td>\n",
       "      <td>0</td>\n",
       "      <td>0</td>\n",
       "      <td>0</td>\n",
       "      <td>0</td>\n",
       "      <td>...</td>\n",
       "      <td>0</td>\n",
       "      <td>0</td>\n",
       "      <td>0</td>\n",
       "      <td>0</td>\n",
       "      <td>0</td>\n",
       "      <td>0</td>\n",
       "      <td>0</td>\n",
       "      <td>0</td>\n",
       "      <td>0</td>\n",
       "      <td>0</td>\n",
       "    </tr>\n",
       "    <tr>\n",
       "      <th>1</th>\n",
       "      <td>0</td>\n",
       "      <td>0</td>\n",
       "      <td>0</td>\n",
       "      <td>0</td>\n",
       "      <td>0</td>\n",
       "      <td>0</td>\n",
       "      <td>0</td>\n",
       "      <td>0</td>\n",
       "      <td>0</td>\n",
       "      <td>0</td>\n",
       "      <td>...</td>\n",
       "      <td>0</td>\n",
       "      <td>0</td>\n",
       "      <td>0</td>\n",
       "      <td>0</td>\n",
       "      <td>0</td>\n",
       "      <td>0</td>\n",
       "      <td>0</td>\n",
       "      <td>0</td>\n",
       "      <td>0</td>\n",
       "      <td>0</td>\n",
       "    </tr>\n",
       "    <tr>\n",
       "      <th>2</th>\n",
       "      <td>0</td>\n",
       "      <td>0</td>\n",
       "      <td>0</td>\n",
       "      <td>0</td>\n",
       "      <td>0</td>\n",
       "      <td>0</td>\n",
       "      <td>0</td>\n",
       "      <td>0</td>\n",
       "      <td>0</td>\n",
       "      <td>0</td>\n",
       "      <td>...</td>\n",
       "      <td>0</td>\n",
       "      <td>0</td>\n",
       "      <td>0</td>\n",
       "      <td>0</td>\n",
       "      <td>0</td>\n",
       "      <td>0</td>\n",
       "      <td>0</td>\n",
       "      <td>0</td>\n",
       "      <td>0</td>\n",
       "      <td>0</td>\n",
       "    </tr>\n",
       "    <tr>\n",
       "      <th>3</th>\n",
       "      <td>0</td>\n",
       "      <td>0</td>\n",
       "      <td>0</td>\n",
       "      <td>0</td>\n",
       "      <td>0</td>\n",
       "      <td>0</td>\n",
       "      <td>0</td>\n",
       "      <td>0</td>\n",
       "      <td>0</td>\n",
       "      <td>0</td>\n",
       "      <td>...</td>\n",
       "      <td>0</td>\n",
       "      <td>0</td>\n",
       "      <td>0</td>\n",
       "      <td>0</td>\n",
       "      <td>0</td>\n",
       "      <td>0</td>\n",
       "      <td>0</td>\n",
       "      <td>0</td>\n",
       "      <td>0</td>\n",
       "      <td>0</td>\n",
       "    </tr>\n",
       "    <tr>\n",
       "      <th>4</th>\n",
       "      <td>0</td>\n",
       "      <td>0</td>\n",
       "      <td>0</td>\n",
       "      <td>0</td>\n",
       "      <td>0</td>\n",
       "      <td>0</td>\n",
       "      <td>0</td>\n",
       "      <td>0</td>\n",
       "      <td>0</td>\n",
       "      <td>0</td>\n",
       "      <td>...</td>\n",
       "      <td>0</td>\n",
       "      <td>0</td>\n",
       "      <td>0</td>\n",
       "      <td>0</td>\n",
       "      <td>0</td>\n",
       "      <td>0</td>\n",
       "      <td>0</td>\n",
       "      <td>0</td>\n",
       "      <td>0</td>\n",
       "      <td>0</td>\n",
       "    </tr>\n",
       "  </tbody>\n",
       "</table>\n",
       "<p>5 rows × 784 columns</p>\n",
       "</div>"
      ],
      "text/plain": [
       "   pixel0  pixel1  pixel2  pixel3  pixel4  pixel5  pixel6  pixel7  pixel8  \\\n",
       "0       0       0       0       0       0       0       0       0       0   \n",
       "1       0       0       0       0       0       0       0       0       0   \n",
       "2       0       0       0       0       0       0       0       0       0   \n",
       "3       0       0       0       0       0       0       0       0       0   \n",
       "4       0       0       0       0       0       0       0       0       0   \n",
       "\n",
       "   pixel9  ...  pixel774  pixel775  pixel776  pixel777  pixel778  pixel779  \\\n",
       "0       0  ...         0         0         0         0         0         0   \n",
       "1       0  ...         0         0         0         0         0         0   \n",
       "2       0  ...         0         0         0         0         0         0   \n",
       "3       0  ...         0         0         0         0         0         0   \n",
       "4       0  ...         0         0         0         0         0         0   \n",
       "\n",
       "   pixel780  pixel781  pixel782  pixel783  \n",
       "0         0         0         0         0  \n",
       "1         0         0         0         0  \n",
       "2         0         0         0         0  \n",
       "3         0         0         0         0  \n",
       "4         0         0         0         0  \n",
       "\n",
       "[5 rows x 784 columns]"
      ]
     },
     "execution_count": 11,
     "metadata": {},
     "output_type": "execute_result"
    }
   ],
   "source": [
    "# drop the data labels\n",
    "df = df.drop('label', axis=1)\n",
    "df.head()"
   ]
  },
  {
   "cell_type": "code",
   "execution_count": 12,
   "metadata": {},
   "outputs": [
    {
     "data": {
      "text/plain": [
       "(42000, 784)"
      ]
     },
     "execution_count": 12,
     "metadata": {},
     "output_type": "execute_result"
    }
   ],
   "source": [
    "# scale data\n",
    "data = np.array(df)\n",
    "\n",
    "scaler = MinMaxScaler()\n",
    "X = scaler.fit_transform(data)\n",
    "X.shape"
   ]
  },
  {
   "cell_type": "code",
   "execution_count": 13,
   "metadata": {},
   "outputs": [
    {
     "name": "stdout",
     "output_type": "stream",
     "text": [
      "(33600, 784)\n",
      "(33600, 10)\n",
      "(8400, 784)\n",
      "(8400, 10)\n"
     ]
    }
   ],
   "source": [
    "X_train = X[:33600]\n",
    "Y_train = labels[:33600]\n",
    "\n",
    "X_test = X[-8400:]\n",
    "Y_test = labels[-8400:]\n",
    "\n",
    "print(X_train.shape)\n",
    "print(Y_train.shape)\n",
    "\n",
    "print(X_test.shape)\n",
    "print(Y_test.shape)"
   ]
  },
  {
   "cell_type": "code",
   "execution_count": 16,
   "metadata": {},
   "outputs": [
    {
     "name": "stdout",
     "output_type": "stream",
     "text": [
      "Epoch: 1 Loss: 97621.24799313987 Validation Loss: 24391.94313252021 Accuracy: 0.11782738095238095\n",
      "Epoch: 2 Loss: 92881.82289246762 Validation Loss: 23226.126812779145 Accuracy: 0.11979166666666667\n",
      "Epoch: 3 Loss: 89011.50486665661 Validation Loss: 22274.829839099693 Accuracy: 0.1255952380952381\n",
      "Epoch: 4 Loss: 85986.79228528871 Validation Loss: 21524.855145408088 Accuracy: 0.12895833333333334\n",
      "Epoch: 5 Loss: 83683.05260249236 Validation Loss: 20947.52898320549 Accuracy: 0.12997023809523808\n",
      "Epoch: 6 Loss: 81965.96684968032 Validation Loss: 20520.20247912609 Accuracy: 0.1293154761904762\n",
      "Epoch: 7 Loss: 80712.78390204885 Validation Loss: 20212.36712615718 Accuracy: 0.12422619047619048\n",
      "Epoch: 8 Loss: 79798.70777284616 Validation Loss: 19989.70184350658 Accuracy: 0.1149702380952381\n",
      "Epoch: 9 Loss: 79108.22415204423 Validation Loss: 19821.461873788834 Accuracy: 0.10952380952380952\n",
      "Epoch: 10 Loss: 78551.4226199989 Validation Loss: 19684.638921894235 Accuracy: 0.10625\n",
      "Epoch: 11 Loss: 78070.06796564723 Validation Loss: 19564.733818479774 Accuracy: 0.10398809523809524\n",
      "Epoch: 12 Loss: 77630.6731486984 Validation Loss: 19453.69070815478 Accuracy: 0.10345238095238095\n",
      "Epoch: 13 Loss: 77213.59152942973 Validation Loss: 19346.3004979448 Accuracy: 0.10354166666666667\n",
      "Epoch: 14 Loss: 76804.72768328579 Validation Loss: 19238.280655893086 Accuracy: 0.10413690476190476\n",
      "Epoch: 15 Loss: 76397.75192012655 Validation Loss: 19127.993920637782 Accuracy: 0.10803571428571429\n",
      "Epoch: 16 Loss: 75994.1120047022 Validation Loss: 19017.412023072065 Accuracy: 0.11925595238095238\n",
      "Epoch: 17 Loss: 75600.30501222525 Validation Loss: 18910.071942706436 Accuracy: 0.1355952380952381\n",
      "Epoch: 18 Loss: 75226.11285915134 Validation Loss: 18810.559942831154 Accuracy: 0.15244047619047618\n",
      "Epoch: 19 Loss: 74881.50429391416 Validation Loss: 18720.708070281726 Accuracy: 0.16866071428571427\n",
      "Epoch: 20 Loss: 74566.68727828543 Validation Loss: 18638.75555288504 Accuracy: 0.19297619047619047\n",
      "Epoch: 21 Loss: 74281.20668297252 Validation Loss: 18564.91453788119 Accuracy: 0.21166666666666667\n",
      "Epoch: 22 Loss: 74023.09741233723 Validation Loss: 18498.764844957364 Accuracy: 0.2211904761904762\n",
      "Epoch: 23 Loss: 73782.81774965691 Validation Loss: 18435.209892530103 Accuracy: 0.2331845238095238\n",
      "Epoch: 24 Loss: 73541.15056974528 Validation Loss: 18370.9751533205 Accuracy: 0.2487202380952381\n",
      "Epoch: 25 Loss: 73274.74734395316 Validation Loss: 18301.999327641613 Accuracy: 0.2607738095238095\n",
      "Epoch: 26 Loss: 72970.47046884574 Validation Loss: 18225.61951524141 Accuracy: 0.268125\n",
      "Epoch: 27 Loss: 72618.0878364798 Validation Loss: 18137.54482581561 Accuracy: 0.27473214285714287\n",
      "Epoch: 28 Loss: 72209.23135942609 Validation Loss: 18035.4160425677 Accuracy: 0.28056547619047617\n",
      "Epoch: 29 Loss: 71743.4310295801 Validation Loss: 17919.6251520701 Accuracy: 0.2866369047619048\n",
      "Epoch: 30 Loss: 71227.17714954085 Validation Loss: 17792.59776087927 Accuracy: 0.29276785714285714\n",
      "Epoch: 31 Loss: 70672.11472104846 Validation Loss: 17657.53580653345 Accuracy: 0.30095238095238097\n",
      "Epoch: 32 Loss: 70091.06592460648 Validation Loss: 17517.40278633957 Accuracy: 0.3112797619047619\n",
      "Epoch: 33 Loss: 69495.13091302098 Validation Loss: 17374.30125144868 Accuracy: 0.32857142857142857\n",
      "Epoch: 34 Loss: 68893.41157561456 Validation Loss: 17229.78836634787 Accuracy: 0.3399107142857143\n",
      "Epoch: 35 Loss: 68292.82533352535 Validation Loss: 17084.889233367507 Accuracy: 0.3513095238095238\n",
      "Epoch: 36 Loss: 67697.34509696024 Validation Loss: 16939.758752892638 Accuracy: 0.3617261904761905\n",
      "Epoch: 37 Loss: 67108.59785377904 Validation Loss: 16794.584140373994 Accuracy: 0.37089285714285714\n",
      "Epoch: 38 Loss: 66527.41823592935 Validation Loss: 16649.83050906348 Accuracy: 0.38184523809523807\n",
      "Epoch: 39 Loss: 65953.69967764655 Validation Loss: 16506.117004096246 Accuracy: 0.39791666666666664\n",
      "Epoch: 40 Loss: 65386.288035880934 Validation Loss: 16363.71457134251 Accuracy: 0.4075\n",
      "Epoch: 41 Loss: 64823.84018908244 Validation Loss: 16222.49737785162 Accuracy: 0.4160714285714286\n",
      "Epoch: 42 Loss: 64264.55729512558 Validation Loss: 16082.007324614502 Accuracy: 0.424375\n",
      "Epoch: 43 Loss: 63705.99151003869 Validation Loss: 15941.625944851245 Accuracy: 0.4323214285714286\n",
      "Epoch: 44 Loss: 63145.96966940789 Validation Loss: 15800.804692785414 Accuracy: 0.44011904761904763\n",
      "Epoch: 45 Loss: 62583.05995931223 Validation Loss: 15659.163353214952 Accuracy: 0.44669642857142855\n",
      "Epoch: 46 Loss: 62016.028889922265 Validation Loss: 15516.63896994855 Accuracy: 0.4540773809523809\n",
      "Epoch: 47 Loss: 61443.88257807608 Validation Loss: 15373.357132347988 Accuracy: 0.4614285714285714\n",
      "Epoch: 48 Loss: 60866.14772562446 Validation Loss: 15229.530220019275 Accuracy: 0.4687797619047619\n",
      "Epoch: 49 Loss: 60283.7824741013 Validation Loss: 15085.333139750997 Accuracy: 0.47672619047619047\n",
      "Epoch: 50 Loss: 59698.39649196209 Validation Loss: 14940.480201731636 Accuracy: 0.4839583333333333\n",
      "Epoch: 51 Loss: 59110.79030740412 Validation Loss: 14794.153035998974 Accuracy: 0.49029761904761904\n",
      "Epoch: 52 Loss: 58521.19155697384 Validation Loss: 14645.729551874587 Accuracy: 0.4982738095238095\n",
      "Epoch: 53 Loss: 57929.77180287158 Validation Loss: 14495.822878444826 Accuracy: 0.5075\n",
      "Epoch: 54 Loss: 57338.22341751332 Validation Loss: 14345.70796182328 Accuracy: 0.5129464285714286\n",
      "Epoch: 55 Loss: 56748.25952409952 Validation Loss: 14195.918126915489 Accuracy: 0.5200595238095238\n",
      "Epoch: 56 Loss: 56159.71467138774 Validation Loss: 14047.086473842866 Accuracy: 0.5267261904761905\n",
      "Epoch: 57 Loss: 55572.8752594077 Validation Loss: 13899.68648957652 Accuracy: 0.5331547619047619\n",
      "Epoch: 58 Loss: 54990.862018035135 Validation Loss: 13753.774840237578 Accuracy: 0.5396428571428571\n",
      "Epoch: 59 Loss: 54417.193014253324 Validation Loss: 13609.035956185819 Accuracy: 0.5464880952380953\n",
      "Epoch: 60 Loss: 53853.506828746 Validation Loss: 13465.312813423287 Accuracy: 0.5525892857142857\n",
      "Epoch: 61 Loss: 53300.82701204687 Validation Loss: 13323.435764880925 Accuracy: 0.5580654761904762\n",
      "Epoch: 62 Loss: 52759.95112483769 Validation Loss: 13184.599598084453 Accuracy: 0.5638392857142858\n",
      "Epoch: 63 Loss: 52230.58434807622 Validation Loss: 13049.422318128201 Accuracy: 0.5685416666666666\n",
      "Epoch: 64 Loss: 51711.55575790284 Validation Loss: 12917.676298178232 Accuracy: 0.5724702380952381\n",
      "Epoch: 65 Loss: 51202.11354346432 Validation Loss: 12789.114934139207 Accuracy: 0.5775595238095238\n",
      "Epoch: 66 Loss: 50702.21356487125 Validation Loss: 12663.738560239703 Accuracy: 0.5811607142857143\n",
      "Epoch: 67 Loss: 50211.86323939053 Validation Loss: 12541.514327624584 Accuracy: 0.5841071428571428\n",
      "Epoch: 68 Loss: 49730.750030255076 Validation Loss: 12421.804716450675 Accuracy: 0.5882738095238095\n",
      "Epoch: 69 Loss: 49258.097402628424 Validation Loss: 12303.912560693658 Accuracy: 0.5903571428571428\n",
      "Epoch: 70 Loss: 48792.86451563451 Validation Loss: 12187.365119642442 Accuracy: 0.5936011904761904\n",
      "Epoch: 71 Loss: 48334.02352126546 Validation Loss: 12072.145995695251 Accuracy: 0.5961904761904762\n",
      "Epoch: 72 Loss: 47881.44251196131 Validation Loss: 11958.428349144548 Accuracy: 0.5985714285714285\n",
      "Epoch: 73 Loss: 47435.57082747107 Validation Loss: 11846.40107678151 Accuracy: 0.6010714285714286\n",
      "Epoch: 74 Loss: 46996.608578548454 Validation Loss: 11736.449347165752 Accuracy: 0.6039880952380953\n",
      "Epoch: 75 Loss: 46564.66750318688 Validation Loss: 11628.974595860229 Accuracy: 0.6072321428571429\n",
      "Epoch: 76 Loss: 46140.52036105705 Validation Loss: 11524.165906642607 Accuracy: 0.6101785714285715\n",
      "Epoch: 77 Loss: 45724.92880709687 Validation Loss: 11421.887938612159 Accuracy: 0.6144940476190476\n",
      "Epoch: 78 Loss: 45318.14693093412 Validation Loss: 11321.833498166889 Accuracy: 0.6188690476190476\n",
      "Epoch: 79 Loss: 44920.0778356834 Validation Loss: 11223.819367244616 Accuracy: 0.6241071428571429\n",
      "Epoch: 80 Loss: 44530.08773002109 Validation Loss: 11127.703773090161 Accuracy: 0.6315773809523809\n",
      "Epoch: 81 Loss: 44147.04608435114 Validation Loss: 11033.324003711996 Accuracy: 0.6350595238095238\n",
      "Epoch: 82 Loss: 43769.580291464335 Validation Loss: 10940.576019292204 Accuracy: 0.637797619047619\n",
      "Epoch: 83 Loss: 43396.53267702756 Validation Loss: 10849.39237621023 Accuracy: 0.6398214285714285\n",
      "Epoch: 84 Loss: 43027.34514918692 Validation Loss: 10759.603708210834 Accuracy: 0.643154761904762\n",
      "Epoch: 85 Loss: 42662.016761868894 Validation Loss: 10670.970990207275 Accuracy: 0.6453869047619047\n",
      "Epoch: 86 Loss: 42300.72418926463 Validation Loss: 10583.345592209793 Accuracy: 0.648154761904762\n",
      "Epoch: 87 Loss: 41943.56784113289 Validation Loss: 10496.715773456954 Accuracy: 0.6507738095238095\n",
      "Epoch: 88 Loss: 41590.66978456284 Validation Loss: 10411.117596931934 Accuracy: 0.6532142857142857\n",
      "Epoch: 89 Loss: 41242.32814063233 Validation Loss: 10326.603871085936 Accuracy: 0.6558333333333334\n",
      "Epoch: 90 Loss: 40898.82242859424 Validation Loss: 10243.365819064209 Accuracy: 0.6582440476190476\n",
      "Epoch: 91 Loss: 40560.14236626164 Validation Loss: 10161.516365981175 Accuracy: 0.660952380952381\n",
      "Epoch: 92 Loss: 40226.11712675893 Validation Loss: 10080.944054240565 Accuracy: 0.6631845238095239\n",
      "Epoch: 93 Loss: 39896.62979044501 Validation Loss: 10001.50682579731 Accuracy: 0.665625\n",
      "Epoch: 94 Loss: 39571.63203588746 Validation Loss: 9923.13886547986 Accuracy: 0.668125\n",
      "Epoch: 95 Loss: 39250.989090880175 Validation Loss: 9845.815272264661 Accuracy: 0.6711904761904762\n",
      "Epoch: 96 Loss: 38934.51714035303 Validation Loss: 9769.496286105188 Accuracy: 0.6729464285714286\n",
      "Epoch: 97 Loss: 38622.13283870245 Validation Loss: 9694.164357076228 Accuracy: 0.6751190476190476\n",
      "Epoch: 98 Loss: 38313.79314001104 Validation Loss: 9619.869352413758 Accuracy: 0.6782738095238096\n",
      "Epoch: 99 Loss: 38009.769957579636 Validation Loss: 9546.721082746664 Accuracy: 0.68125\n",
      "Epoch: 100 Loss: 37710.88535539295 Validation Loss: 9474.855181609217 Accuracy: 0.684047619047619\n",
      "Epoch: 101 Loss: 37417.82895148366 Validation Loss: 9404.383573336027 Accuracy: 0.6873511904761904\n",
      "Epoch: 102 Loss: 37130.90161639898 Validation Loss: 9335.372919009806 Accuracy: 0.6900595238095238\n",
      "Epoch: 103 Loss: 36850.19406453745 Validation Loss: 9267.852979135492 Accuracy: 0.6934523809523809\n",
      "Epoch: 104 Loss: 36575.57510839328 Validation Loss: 9201.82951443517 Accuracy: 0.6958928571428571\n",
      "Epoch: 105 Loss: 36306.72338269684 Validation Loss: 9137.242185855845 Accuracy: 0.6993452380952381\n",
      "Epoch: 106 Loss: 36043.214832006575 Validation Loss: 9073.921065176519 Accuracy: 0.7027976190476191\n",
      "Epoch: 107 Loss: 35784.55970864507 Validation Loss: 9011.633137810812 Accuracy: 0.7051190476190476\n",
      "Epoch: 108 Loss: 35530.51375538373 Validation Loss: 8950.201404353156 Accuracy: 0.7077083333333334\n",
      "Epoch: 109 Loss: 35281.141169512826 Validation Loss: 8889.600696622048 Accuracy: 0.7097619047619048\n",
      "Epoch: 110 Loss: 35036.38551117982 Validation Loss: 8829.790607006576 Accuracy: 0.711875\n",
      "Epoch: 111 Loss: 34796.18256203877 Validation Loss: 8770.698237404515 Accuracy: 0.7149404761904762\n",
      "Epoch: 112 Loss: 34560.339199128335 Validation Loss: 8712.419824004483 Accuracy: 0.717827380952381\n",
      "Epoch: 113 Loss: 34328.32706605432 Validation Loss: 8655.149755181856 Accuracy: 0.721220238095238\n",
      "Epoch: 114 Loss: 34099.647468467716 Validation Loss: 8599.008348454176 Accuracy: 0.7230654761904762\n",
      "Epoch: 115 Loss: 33874.03542526062 Validation Loss: 8543.994730885446 Accuracy: 0.724672619047619\n",
      "Epoch: 116 Loss: 33651.391667844735 Validation Loss: 8490.039002650183 Accuracy: 0.7266071428571429\n",
      "Epoch: 117 Loss: 33431.6061856791 Validation Loss: 8436.964388177785 Accuracy: 0.7284226190476191\n",
      "Epoch: 118 Loss: 33214.5991788141 Validation Loss: 8384.509328773556 Accuracy: 0.7304166666666667\n",
      "Epoch: 119 Loss: 33000.5323837958 Validation Loss: 8332.499693664979 Accuracy: 0.7321428571428571\n",
      "Epoch: 120 Loss: 32789.744966902974 Validation Loss: 8280.945305101186 Accuracy: 0.7336904761904762\n"
     ]
    }
   ],
   "source": [
    "import nnet\n",
    "\n",
    "def get_accuracy(Y, Y_hat):\n",
    "    return np.sum(np.argmax(Y, 0) == np.argmax(Y_hat, 0)) / Y.shape[1]\n",
    "\n",
    "model = nnet.Sequential([\n",
    "    nnet.layers.Dense((784, 12), nnet.activation.ReLu),\n",
    "    nnet.layers.Dense((12, 10), nnet.activation.ReLu),\n",
    "    nnet.layers.Dense((10, 10), nnet.activation.Softmax)\n",
    "])\n",
    "\n",
    "# train the model\n",
    "model.fit(X_train, Y_train, 120, nnet.loss.CategoricalCrossEntropy, nnet.optimizers.Adam(), accuracy_metric=get_accuracy, X_val=X_test, Y_val=Y_test)"
   ]
  },
  {
   "cell_type": "code",
   "execution_count": 17,
   "metadata": {},
   "outputs": [
    {
     "name": "stdout",
     "output_type": "stream",
     "text": [
      "Epoch: 1 Loss: 32582.57939967073 Validation Loss: 8229.984400100942 Accuracy: 0.7355357142857143\n",
      "Epoch: 2 Loss: 32073.024669010192 Validation Loss: 8108.636722179564 Accuracy: 0.7410119047619048\n",
      "Epoch: 3 Loss: 31572.7757903398 Validation Loss: 7977.7097649753505 Accuracy: 0.7440476190476191\n",
      "Epoch: 4 Loss: 31140.43068444128 Validation Loss: 7874.713047066452 Accuracy: 0.7477380952380952\n",
      "Epoch: 5 Loss: 30788.27072077187 Validation Loss: 7778.531701503663 Accuracy: 0.7508630952380952\n",
      "Epoch: 6 Loss: 30379.64232540094 Validation Loss: 7674.915984803658 Accuracy: 0.7545238095238095\n",
      "Epoch: 7 Loss: 29967.89241857934 Validation Loss: 7578.404836627498 Accuracy: 0.7578571428571429\n",
      "Epoch: 8 Loss: 29618.749043792686 Validation Loss: 7496.494472317515 Accuracy: 0.7605952380952381\n",
      "Epoch: 9 Loss: 29321.639670140317 Validation Loss: 7421.510823115927 Accuracy: 0.7636309523809524\n",
      "Epoch: 10 Loss: 29039.354632587925 Validation Loss: 7346.641978534506 Accuracy: 0.7660119047619047\n",
      "Epoch: 11 Loss: 28730.95110207567 Validation Loss: 7267.883006072058 Accuracy: 0.7679166666666667\n",
      "Epoch: 12 Loss: 28404.701483430083 Validation Loss: 7187.462475195302 Accuracy: 0.7710714285714285\n",
      "Epoch: 13 Loss: 28108.93111342108 Validation Loss: 7113.648993991423 Accuracy: 0.773720238095238\n",
      "Epoch: 14 Loss: 27853.85729891672 Validation Loss: 7049.036255284216 Accuracy: 0.776547619047619\n",
      "Epoch: 15 Loss: 27615.284569034407 Validation Loss: 6987.774795752209 Accuracy: 0.7769940476190477\n",
      "Epoch: 16 Loss: 27370.6938478859 Validation Loss: 6925.1068590198265 Accuracy: 0.7785416666666667\n",
      "Epoch: 17 Loss: 27106.536622097814 Validation Loss: 6859.449408761359 Accuracy: 0.7807142857142857\n",
      "Epoch: 18 Loss: 26831.630813764517 Validation Loss: 6790.578893703187 Accuracy: 0.7833333333333333\n",
      "Epoch: 19 Loss: 26561.23227913778 Validation Loss: 6720.492388599012 Accuracy: 0.785327380952381\n",
      "Epoch: 20 Loss: 26303.33852982411 Validation Loss: 6652.909342620192 Accuracy: 0.7873511904761905\n",
      "Epoch: 21 Loss: 26055.277900967405 Validation Loss: 6589.354598841933 Accuracy: 0.7892857142857143\n",
      "Epoch: 22 Loss: 25810.770916182522 Validation Loss: 6527.320115637971 Accuracy: 0.7910416666666666\n",
      "Epoch: 23 Loss: 25562.18736622521 Validation Loss: 6464.295316041139 Accuracy: 0.793422619047619\n",
      "Epoch: 24 Loss: 25309.43657850072 Validation Loss: 6401.972875673653 Accuracy: 0.795327380952381\n",
      "Epoch: 25 Loss: 25059.464999896034 Validation Loss: 6342.139843536661 Accuracy: 0.7974404761904762\n",
      "Epoch: 26 Loss: 24812.29489842388 Validation Loss: 6283.219223010364 Accuracy: 0.8000297619047619\n",
      "Epoch: 27 Loss: 24564.863586574957 Validation Loss: 6221.894539626607 Accuracy: 0.8023214285714285\n",
      "Epoch: 28 Loss: 24317.11735054485 Validation Loss: 6156.1193482400995 Accuracy: 0.8039583333333333\n",
      "Epoch: 29 Loss: 24070.296671457116 Validation Loss: 6088.294857784914 Accuracy: 0.8061607142857142\n",
      "Epoch: 30 Loss: 23824.371457743426 Validation Loss: 6022.1602983661305 Accuracy: 0.8083333333333333\n",
      "Epoch: 31 Loss: 23577.413974941057 Validation Loss: 5957.464086325703 Accuracy: 0.8113988095238095\n",
      "Epoch: 32 Loss: 23327.758279809157 Validation Loss: 5891.7903563858845 Accuracy: 0.8136904761904762\n",
      "Epoch: 33 Loss: 23080.301275958474 Validation Loss: 5825.982204013599 Accuracy: 0.8160714285714286\n",
      "Epoch: 34 Loss: 22843.52744855289 Validation Loss: 5762.031382685636 Accuracy: 0.8177678571428572\n",
      "Epoch: 35 Loss: 22615.34451214095 Validation Loss: 5700.120685290297 Accuracy: 0.8197619047619048\n",
      "Epoch: 36 Loss: 22388.125605551242 Validation Loss: 5639.8056939070175 Accuracy: 0.8212797619047619\n",
      "Epoch: 37 Loss: 22164.979517005366 Validation Loss: 5582.00125516441 Accuracy: 0.8230654761904762\n",
      "Epoch: 38 Loss: 21958.812060953143 Validation Loss: 5527.196089208234 Accuracy: 0.8250892857142857\n",
      "Epoch: 39 Loss: 21765.39347802193 Validation Loss: 5472.909359766778 Accuracy: 0.8255654761904762\n",
      "Epoch: 40 Loss: 21564.709217011707 Validation Loss: 5417.770917305325 Accuracy: 0.8271130952380953\n",
      "Epoch: 41 Loss: 21350.626458105424 Validation Loss: 5362.240128920824 Accuracy: 0.8287202380952381\n",
      "Epoch: 42 Loss: 21138.990606843447 Validation Loss: 5307.731416391376 Accuracy: 0.8311011904761905\n",
      "Epoch: 43 Loss: 20939.73512421288 Validation Loss: 5255.798952359899 Accuracy: 0.8323511904761904\n",
      "Epoch: 44 Loss: 20748.66056264202 Validation Loss: 5207.516593083143 Accuracy: 0.8334821428571428\n",
      "Epoch: 45 Loss: 20557.865865527598 Validation Loss: 5161.508983100689 Accuracy: 0.8346428571428571\n",
      "Epoch: 46 Loss: 20362.69648946604 Validation Loss: 5114.290119649175 Accuracy: 0.8369940476190476\n",
      "Epoch: 47 Loss: 20170.735224755066 Validation Loss: 5066.214940944042 Accuracy: 0.8388095238095238\n",
      "Epoch: 48 Loss: 19990.842630595358 Validation Loss: 5020.57755388415 Accuracy: 0.8408035714285714\n",
      "Epoch: 49 Loss: 19815.633292113936 Validation Loss: 4978.0903606733955 Accuracy: 0.8436309523809524\n",
      "Epoch: 50 Loss: 19638.572753332093 Validation Loss: 4936.6460043290535 Accuracy: 0.8447321428571428\n",
      "Epoch: 51 Loss: 19473.1256947759 Validation Loss: 4895.922659750112 Accuracy: 0.8471428571428572\n",
      "Epoch: 52 Loss: 19318.452493408462 Validation Loss: 4856.994759676426 Accuracy: 0.8489285714285715\n",
      "Epoch: 53 Loss: 19155.765469553116 Validation Loss: 4819.740725110012 Accuracy: 0.8508630952380952\n",
      "Epoch: 54 Loss: 18990.697811402915 Validation Loss: 4784.280455257898 Accuracy: 0.8527678571428572\n",
      "Epoch: 55 Loss: 18841.10190785782 Validation Loss: 4750.971836062293 Accuracy: 0.8542857142857143\n",
      "Epoch: 56 Loss: 18701.311568898338 Validation Loss: 4720.401078822561 Accuracy: 0.8549404761904762\n",
      "Epoch: 57 Loss: 18553.516714675523 Validation Loss: 4692.056752874728 Accuracy: 0.8566071428571429\n",
      "Epoch: 58 Loss: 18414.002099737212 Validation Loss: 4665.499516831858 Accuracy: 0.8573214285714286\n",
      "Epoch: 59 Loss: 18297.44278306055 Validation Loss: 4642.3627206450665 Accuracy: 0.8580654761904762\n",
      "Epoch: 60 Loss: 18182.00385008219 Validation Loss: 4621.913939257509 Accuracy: 0.8582738095238095\n",
      "Epoch: 61 Loss: 18060.8394717277 Validation Loss: 4601.431085473396 Accuracy: 0.8581547619047619\n",
      "Epoch: 62 Loss: 17965.21791134683 Validation Loss: 4582.381323593784 Accuracy: 0.8588392857142857\n",
      "Epoch: 63 Loss: 17893.42760125806 Validation Loss: 4566.422616038923 Accuracy: 0.8589583333333334\n",
      "Epoch: 64 Loss: 17809.92877230528 Validation Loss: 4551.858801092438 Accuracy: 0.8592857142857143\n",
      "Epoch: 65 Loss: 17731.035390388985 Validation Loss: 4536.582564026242 Accuracy: 0.8598809523809524\n",
      "Epoch: 66 Loss: 17651.09767158725 Validation Loss: 4518.8812244061055 Accuracy: 0.8599702380952381\n",
      "Epoch: 67 Loss: 17548.94399925066 Validation Loss: 4503.523198547277 Accuracy: 0.8603571428571428\n",
      "Epoch: 68 Loss: 17441.89740143606 Validation Loss: 4490.837113618132 Accuracy: 0.8609821428571428\n",
      "Epoch: 69 Loss: 17337.241129216818 Validation Loss: 4474.8347966026595 Accuracy: 0.86125\n",
      "Epoch: 70 Loss: 17220.236785514975 Validation Loss: 4457.726858648381 Accuracy: 0.8622619047619048\n",
      "Epoch: 71 Loss: 17107.311530456995 Validation Loss: 4439.696162000082 Accuracy: 0.8633333333333333\n",
      "Epoch: 72 Loss: 17018.425912055864 Validation Loss: 4423.165334056968 Accuracy: 0.8639880952380953\n",
      "Epoch: 73 Loss: 16924.889361297217 Validation Loss: 4408.298645231627 Accuracy: 0.864672619047619\n",
      "Epoch: 74 Loss: 16835.964164541492 Validation Loss: 4397.099658534766 Accuracy: 0.8652380952380953\n",
      "Epoch: 75 Loss: 16736.7297219764 Validation Loss: 4381.037484367979 Accuracy: 0.8655654761904762\n",
      "Epoch: 76 Loss: 16649.53860100899 Validation Loss: 4365.929436125093 Accuracy: 0.8662202380952381\n",
      "Epoch: 77 Loss: 16519.270458465395 Validation Loss: 4342.922849865407 Accuracy: 0.8675\n",
      "Epoch: 78 Loss: 16461.12802354451 Validation Loss: 4334.506216709758 Accuracy: 0.8675297619047619\n",
      "Epoch: 79 Loss: 16308.132446001508 Validation Loss: 4308.758638226633 Accuracy: 0.8690178571428572\n",
      "Epoch: 80 Loss: 16237.50787338648 Validation Loss: 4293.512779750051 Accuracy: 0.8695238095238095\n",
      "Epoch: 81 Loss: 16091.127046688149 Validation Loss: 4265.700829404276 Accuracy: 0.8707738095238096\n",
      "Epoch: 82 Loss: 15969.978123623554 Validation Loss: 4240.927967797907 Accuracy: 0.8706845238095238\n",
      "Epoch: 83 Loss: 15902.445264921214 Validation Loss: 4231.389952149606 Accuracy: 0.8710416666666667\n",
      "Epoch: 84 Loss: 15762.821283728861 Validation Loss: 4206.739915219385 Accuracy: 0.8714583333333333\n",
      "Epoch: 85 Loss: 15655.313241624528 Validation Loss: 4195.02083474423 Accuracy: 0.8715178571428571\n",
      "Epoch: 86 Loss: 15569.532042702162 Validation Loss: 4187.480381688521 Accuracy: 0.8720535714285714\n",
      "Epoch: 87 Loss: 15447.68250328526 Validation Loss: 4164.386259285661 Accuracy: 0.8735416666666667\n",
      "Epoch: 88 Loss: 15364.541021109259 Validation Loss: 4149.587327416949 Accuracy: 0.874077380952381\n",
      "Epoch: 89 Loss: 15287.177907119809 Validation Loss: 4138.042304172114 Accuracy: 0.8739583333333333\n",
      "Epoch: 90 Loss: 15187.665197524151 Validation Loss: 4124.987347342771 Accuracy: 0.8747619047619047\n",
      "Epoch: 91 Loss: 15127.159294603678 Validation Loss: 4119.6337523638795 Accuracy: 0.8751785714285715\n",
      "Epoch: 92 Loss: 15055.543727817945 Validation Loss: 4109.152505619715 Accuracy: 0.8752678571428572\n",
      "Epoch: 93 Loss: 14963.419381862415 Validation Loss: 4088.220613584377 Accuracy: 0.875922619047619\n",
      "Epoch: 94 Loss: 14909.122648557168 Validation Loss: 4074.627626435262 Accuracy: 0.8764583333333333\n",
      "Epoch: 95 Loss: 14845.20289695921 Validation Loss: 4062.437290304991 Accuracy: 0.8768452380952381\n",
      "Epoch: 96 Loss: 14763.009246669719 Validation Loss: 4050.1902781726217 Accuracy: 0.8782142857142857\n",
      "Epoch: 97 Loss: 14710.412163705727 Validation Loss: 4040.8603130570973 Accuracy: 0.8794047619047619\n",
      "Epoch: 98 Loss: 14656.407937485015 Validation Loss: 4029.0022838013733 Accuracy: 0.8794642857142857\n",
      "Epoch: 99 Loss: 14585.276583714804 Validation Loss: 4012.5842894146876 Accuracy: 0.8802380952380953\n",
      "Epoch: 100 Loss: 14525.50768013387 Validation Loss: 3999.82224331867 Accuracy: 0.8799702380952381\n",
      "Epoch: 101 Loss: 14457.313677537933 Validation Loss: 3992.121496543034 Accuracy: 0.880625\n",
      "Epoch: 102 Loss: 14384.977351973925 Validation Loss: 3983.0859529004256 Accuracy: 0.8815773809523809\n",
      "Epoch: 103 Loss: 14331.92536902965 Validation Loss: 3976.9052498067035 Accuracy: 0.8824404761904762\n",
      "Epoch: 104 Loss: 14247.855517889851 Validation Loss: 3958.9311561386403 Accuracy: 0.8830059523809524\n",
      "Epoch: 105 Loss: 14207.513452125839 Validation Loss: 3957.4383010402767 Accuracy: 0.8836904761904761\n",
      "Epoch: 106 Loss: 14142.106097087979 Validation Loss: 3942.9479571073184 Accuracy: 0.8836309523809524\n",
      "Epoch: 107 Loss: 14075.260997607666 Validation Loss: 3939.917063289815 Accuracy: 0.8843154761904762\n",
      "Epoch: 108 Loss: 13996.399383063012 Validation Loss: 3926.7338501703284 Accuracy: 0.8847916666666666\n",
      "Epoch: 109 Loss: 13944.387093337624 Validation Loss: 3912.4271925538233 Accuracy: 0.8847619047619047\n",
      "Epoch: 110 Loss: 13888.913426525698 Validation Loss: 3903.9105196736887 Accuracy: 0.8851190476190476\n",
      "Epoch: 111 Loss: 13821.477905615015 Validation Loss: 3886.7177383172457 Accuracy: 0.8850595238095238\n",
      "Epoch: 112 Loss: 13762.161187880325 Validation Loss: 3881.1417300002054 Accuracy: 0.8863095238095238\n",
      "Epoch: 113 Loss: 13690.11920126104 Validation Loss: 3871.1188480505575 Accuracy: 0.8868154761904762\n",
      "Epoch: 114 Loss: 13646.863640454525 Validation Loss: 3859.435955794012 Accuracy: 0.8873809523809524\n",
      "Epoch: 115 Loss: 13600.164079031201 Validation Loss: 3854.0410862084204 Accuracy: 0.8881845238095238\n",
      "Epoch: 116 Loss: 13533.115758232798 Validation Loss: 3833.481807604154 Accuracy: 0.8885714285714286\n",
      "Epoch: 117 Loss: 13485.71754093188 Validation Loss: 3834.262336541691 Accuracy: 0.8891071428571429\n",
      "Epoch: 118 Loss: 13419.090387098166 Validation Loss: 3823.031187831805 Accuracy: 0.8888690476190476\n",
      "Epoch: 119 Loss: 13376.137799915597 Validation Loss: 3808.925030856988 Accuracy: 0.8899702380952381\n",
      "Epoch: 120 Loss: 13326.375118700078 Validation Loss: 3811.5379361173764 Accuracy: 0.8901190476190476\n"
     ]
    }
   ],
   "source": [
    "# train the model further\n",
    "model.fit(X_train, Y_train, 120, nnet.loss.CategoricalCrossEntropy, nnet.optimizers.Adam(), accuracy_metric=get_accuracy, X_val=X_test, Y_val=Y_test)"
   ]
  },
  {
   "cell_type": "code",
   "execution_count": 18,
   "metadata": {},
   "outputs": [
    {
     "name": "stdout",
     "output_type": "stream",
     "text": [
      "Epoch: 1 Loss: 13259.629587228108 Validation Loss: 3791.8361742947054 Accuracy: 0.8905059523809524\n",
      "Epoch: 2 Loss: 15969.187703217794 Validation Loss: 4438.795405736417 Accuracy: 0.8633928571428572\n",
      "Epoch: 3 Loss: 13433.634430518341 Validation Loss: 3845.665068452053 Accuracy: 0.8875892857142857\n",
      "Epoch: 4 Loss: 13946.545459399284 Validation Loss: 3891.149145509445 Accuracy: 0.8827380952380952\n",
      "Epoch: 5 Loss: 14317.930369616892 Validation Loss: 3983.980495280608 Accuracy: 0.8784821428571429\n",
      "Epoch: 6 Loss: 13825.470385090277 Validation Loss: 3896.4221493605587 Accuracy: 0.8824107142857143\n",
      "Epoch: 7 Loss: 13408.032806769359 Validation Loss: 3809.480143337198 Accuracy: 0.8872321428571428\n",
      "Epoch: 8 Loss: 13484.097610439829 Validation Loss: 3825.3976447967802 Accuracy: 0.8866964285714286\n",
      "Epoch: 9 Loss: 13780.02374309291 Validation Loss: 3890.439470439508 Accuracy: 0.8835416666666667\n",
      "Epoch: 10 Loss: 13788.198924434646 Validation Loss: 3896.4377370933653 Accuracy: 0.8838988095238095\n",
      "Epoch: 11 Loss: 13529.401771944616 Validation Loss: 3838.889150095304 Accuracy: 0.8869642857142858\n",
      "Epoch: 12 Loss: 13237.536716497758 Validation Loss: 3779.268026442753 Accuracy: 0.8904166666666666\n",
      "Epoch: 13 Loss: 13115.02982979201 Validation Loss: 3753.7001005703733 Accuracy: 0.8905654761904762\n",
      "Epoch: 14 Loss: 13170.817525732806 Validation Loss: 3762.1066207512886 Accuracy: 0.889375\n",
      "Epoch: 15 Loss: 13261.810034977585 Validation Loss: 3786.7354988391826 Accuracy: 0.8886607142857142\n",
      "Epoch: 16 Loss: 13199.23152340538 Validation Loss: 3778.883108019877 Accuracy: 0.8889880952380952\n",
      "Epoch: 17 Loss: 13005.769355627392 Validation Loss: 3748.320516169954 Accuracy: 0.89125\n",
      "Epoch: 18 Loss: 12863.58228100513 Validation Loss: 3730.697774293839 Accuracy: 0.8922321428571428\n",
      "Epoch: 19 Loss: 12865.440734787217 Validation Loss: 3731.6393080890693 Accuracy: 0.8925892857142858\n",
      "Epoch: 20 Loss: 12929.707330042778 Validation Loss: 3735.167157556364 Accuracy: 0.8921130952380952\n",
      "Epoch: 21 Loss: 12942.735986713984 Validation Loss: 3726.3941902599436 Accuracy: 0.8925\n",
      "Epoch: 22 Loss: 12878.678523162407 Validation Loss: 3705.964974651351 Accuracy: 0.8929464285714286\n",
      "Epoch: 23 Loss: 12793.672324180643 Validation Loss: 3685.406464095749 Accuracy: 0.8938988095238095\n",
      "Epoch: 24 Loss: 12727.480322796207 Validation Loss: 3674.0175474531115 Accuracy: 0.8951190476190476\n",
      "Epoch: 25 Loss: 12671.43192387204 Validation Loss: 3668.4078128672218 Accuracy: 0.8962202380952381\n",
      "Epoch: 26 Loss: 12600.280908620733 Validation Loss: 3664.63959742491 Accuracy: 0.8967559523809524\n",
      "Epoch: 27 Loss: 12533.349302066988 Validation Loss: 3664.3973192973413 Accuracy: 0.8972619047619048\n",
      "Epoch: 28 Loss: 12501.92011872357 Validation Loss: 3668.7702782758165 Accuracy: 0.8973809523809524\n",
      "Epoch: 29 Loss: 12491.32671606722 Validation Loss: 3674.7337317161864 Accuracy: 0.8967559523809524\n",
      "Epoch: 30 Loss: 12469.070821751813 Validation Loss: 3673.2923876509003 Accuracy: 0.8965178571428571\n",
      "Epoch: 31 Loss: 12425.50188043117 Validation Loss: 3666.6628640136328 Accuracy: 0.8970833333333333\n",
      "Epoch: 32 Loss: 12381.181148795036 Validation Loss: 3657.6190914038148 Accuracy: 0.8977678571428571\n",
      "Epoch: 33 Loss: 12358.682959767437 Validation Loss: 3648.549793326658 Accuracy: 0.8974404761904762\n",
      "Epoch: 34 Loss: 12356.684416893195 Validation Loss: 3639.2751043296767 Accuracy: 0.897172619047619\n",
      "Epoch: 35 Loss: 12355.471399818673 Validation Loss: 3632.981417201988 Accuracy: 0.8973511904761905\n",
      "Epoch: 36 Loss: 12336.592960146756 Validation Loss: 3628.408262770326 Accuracy: 0.8977380952380952\n",
      "Epoch: 37 Loss: 12301.826750020004 Validation Loss: 3625.65675101136 Accuracy: 0.8983035714285714\n",
      "Epoch: 38 Loss: 12259.393762455682 Validation Loss: 3624.6006769995856 Accuracy: 0.8983333333333333\n",
      "Epoch: 39 Loss: 12212.835448416023 Validation Loss: 3622.967775831456 Accuracy: 0.8992261904761905\n",
      "Epoch: 40 Loss: 12165.948235502436 Validation Loss: 3619.826463808684 Accuracy: 0.9\n",
      "Epoch: 41 Loss: 12128.504375436924 Validation Loss: 3617.305634913178 Accuracy: 0.9000595238095238\n",
      "Epoch: 42 Loss: 12106.589126315253 Validation Loss: 3616.8775652243803 Accuracy: 0.8997619047619048\n",
      "Epoch: 43 Loss: 12091.681249361365 Validation Loss: 3616.777587465935 Accuracy: 0.9\n",
      "Epoch: 44 Loss: 12070.131112418032 Validation Loss: 3614.141301270257 Accuracy: 0.8997916666666667\n",
      "Epoch: 45 Loss: 12040.02805808572 Validation Loss: 3608.1142026136204 Accuracy: 0.9005059523809524\n",
      "Epoch: 46 Loss: 12011.590746601114 Validation Loss: 3600.6959558714047 Accuracy: 0.900952380952381\n",
      "Epoch: 47 Loss: 11992.57372647701 Validation Loss: 3594.412833105141 Accuracy: 0.9012797619047619\n",
      "Epoch: 48 Loss: 11978.181553392784 Validation Loss: 3589.491311394611 Accuracy: 0.9013690476190476\n",
      "Epoch: 49 Loss: 11958.493593281115 Validation Loss: 3584.2144088615078 Accuracy: 0.9016071428571428\n",
      "Epoch: 50 Loss: 11931.755458589198 Validation Loss: 3578.1710755012236 Accuracy: 0.9017559523809524\n"
     ]
    }
   ],
   "source": [
    "model.fit(X_train, Y_train, 50, nnet.loss.CategoricalCrossEntropy, nnet.optimizers.Adam(), accuracy_metric=get_accuracy, X_val=X_test, Y_val=Y_test)"
   ]
  },
  {
   "cell_type": "code",
   "execution_count": 19,
   "metadata": {},
   "outputs": [
    {
     "data": {
      "text/plain": [
       "0.8785714285714286"
      ]
     },
     "execution_count": 19,
     "metadata": {},
     "output_type": "execute_result"
    }
   ],
   "source": [
    "# get test accuracy\n",
    "get_accuracy(Y_test.T, model.predict(X_test))"
   ]
  },
  {
   "cell_type": "code",
   "execution_count": 20,
   "metadata": {},
   "outputs": [],
   "source": [
    "# test model\n",
    "import matplotlib.pyplot as plt\n",
    "\n",
    "def test_prediction(index: int):\n",
    "    current = np.array([X_test[index]])\n",
    "    \n",
    "    y_pred = model.predict(current)\n",
    "    print('Prediction', np.argmax(y_pred, 0)[0])\n",
    "    print('Label', np.argmax(Y_test[index]))\n",
    "    \n",
    "    current_image = current.T.reshape((28, 28)) * 255\n",
    "    plt.gray()\n",
    "    plt.imshow(current_image, interpolation='nearest')\n",
    "    plt.show()"
   ]
  },
  {
   "cell_type": "code",
   "execution_count": 21,
   "metadata": {},
   "outputs": [
    {
     "name": "stdout",
     "output_type": "stream",
     "text": [
      "Prediction 7\n",
      "Label 7\n"
     ]
    },
    {
     "data": {
      "image/png": "[encoded data removed]",
      "text/plain": [
       "<Figure size 640x480 with 1 Axes>"
      ]
     },
     "metadata": {},
     "output_type": "display_data"
    }
   ],
   "source": [
    "test_prediction(2)"
   ]
  },
  {
   "cell_type": "code",
   "execution_count": 22,
   "metadata": {},
   "outputs": [
    {
     "name": "stdout",
     "output_type": "stream",
     "text": [
      "Prediction 9\n",
      "Label 9\n"
     ]
    },
    {
     "data": {
      "image/png": "[encoded data removed]",
      "text/plain": [
       "<Figure size 640x480 with 1 Axes>"
      ]
     },
     "metadata": {},
     "output_type": "display_data"
    }
   ],
   "source": [
    "test_prediction(122)"
   ]
  },
  {
   "cell_type": "code",
   "execution_count": 23,
   "metadata": {},
   "outputs": [
    {
     "name": "stdout",
     "output_type": "stream",
     "text": [
      "Prediction 3\n",
      "Label 3\n"
     ]
    },
    {
     "data": {
      "image/png": "[encoded data removed]",
      "text/plain": [
       "<Figure size 640x480 with 1 Axes>"
      ]
     },
     "metadata": {},
     "output_type": "display_data"
    }
   ],
   "source": [
    "test_prediction(54)"
   ]
  },
  {
   "cell_type": "code",
   "execution_count": 24,
   "metadata": {},
   "outputs": [
    {
     "name": "stdout",
     "output_type": "stream",
     "text": [
      "Prediction 6\n",
      "Label 6\n"
     ]
    },
    {
     "data": {
      "image/png": "[encoded data removed]",
      "text/plain": [
       "<Figure size 640x480 with 1 Axes>"
      ]
     },
     "metadata": {},
     "output_type": "display_data"
    }
   ],
   "source": [
    "test_prediction(61)"
   ]
  },
  {
   "cell_type": "code",
   "execution_count": 25,
   "metadata": {},
   "outputs": [
    {
     "name": "stdout",
     "output_type": "stream",
     "text": [
      "Prediction 8\n",
      "Label 8\n"
     ]
    },
    {
     "data": {
      "image/png": "[encoded data removed]",
      "text/plain": [
       "<Figure size 640x480 with 1 Axes>"
      ]
     },
     "metadata": {},
     "output_type": "display_data"
    }
   ],
   "source": [
    "test_prediction(39)"
   ]
  },
  {
   "cell_type": "code",
   "execution_count": 26,
   "metadata": {},
   "outputs": [
    {
     "name": "stdout",
     "output_type": "stream",
     "text": [
      "Prediction 5\n",
      "Label 5\n"
     ]
    },
    {
     "data": {
      "image/png": "[encoded data removed]",
      "text/plain": [
       "<Figure size 640x480 with 1 Axes>"
      ]
     },
     "metadata": {},
     "output_type": "display_data"
    }
   ],
   "source": [
    "test_prediction(9)"
   ]
  }
 ],
 "metadata": {
  "kernelspec": {
   "display_name": "Python 3.11.5 ('venv': venv)",
   "language": "python",
   "name": "python3"
  },
  "language_info": {
   "codemirror_mode": {
    "name": "ipython",
    "version": 3
   },
   "file_extension": ".py",
   "mimetype": "text/x-python",
   "name": "python",
   "nbconvert_exporter": "python",
   "pygments_lexer": "ipython3",
   "version": "3.11.5"
  },
  "orig_nbformat": 4,
  "vscode": {
   "interpreter": {
    "hash": "3e248e8823122d6c7234371ee991cc4810791faba3b9f400ab196a38c557164b"
   }
  }
 },
 "nbformat": 4,
 "nbformat_minor": 2
}
